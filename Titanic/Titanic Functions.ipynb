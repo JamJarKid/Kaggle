{
  "cells": [
    {
      "metadata": {
        "trusted": true
      },
      "cell_type": "code",
      "source": "%matplotlib inline\nimport matplotlib.pyplot as plt\nimport seaborn as sns\nimport pandas as pd\nimport numpy as np\nfrom sklearn.preprocessing import StandardScaler\nfrom sklearn.pipeline import Pipeline\nfrom sklearn.model_selection import GridSearchCV\nfrom sklearn.linear_model import LogisticRegression\nfrom sklearn.model_selection import train_test_split\nfrom sklearn.utils import shuffle\nfrom sklearn import metrics",
      "execution_count": 1,
      "outputs": []
    },
    {
      "metadata": {},
      "cell_type": "markdown",
      "source": "## Final Functions\n\nFunctions developed in the Exploratory Titanic book, updated for flexibility with training and test data."
    },
    {
      "metadata": {
        "trusted": true
      },
      "cell_type": "code",
      "source": "def remove_nan(df):\n    df['Embarked'] = df['Embarked'].fillna('S')\n    for pclass in df['Pclass'].unique():\n        df.loc[(df['Pclass'] == pclass) & (df['Age'].isnull()), 'Age'] = df.groupby('Pclass')['Age'].mean().loc[pclass]\n    df.loc[df['Fare'].isnull(), 'Fare'] = df['Fare'].median()\n    return df    \n\ndef remove_features(df):\n    df['Sex'].replace({'male':0, 'female':1}, inplace = True)\n    \n    useless_features = ['Cabin', 'PassengerId', 'Ticket', 'Name']\n    for item in useless_features:\n        if item in df:\n            df = df.drop(item, axis=1)\n    return df\n    \ndef one_hot_encode_embarked(df):\n    encoded_embarked = pd.get_dummies(df['Embarked'])\n    df = pd.concat([df, encoded_embarked], axis=1)\n    df = df.drop('Embarked', axis = 1)\n    return df\n\ndef flag_age(df):\n    df['Infant'] = df['Age'] <= 7 \n    df['Geriatric'] = df['Age'] >= 65\n    return df\n\ndef extract_titles(df):\n    if 'Name' in df:\n        split_names = df['Name'].str.split(',')\n        titles = split_names.apply(lambda x: x[1]).str.strip().str.split('.').apply(lambda x: x[0])\n        df['Title'] = titles\n        mens_titles = ['Jonkheer', 'Sir', 'Capt', 'Col', 'Don', 'Dr', 'Rev', 'Major']\n        mrs_titles = ['Mme', 'Dona']\n        miss_titles = ['Ms', 'Lady', 'Mlle', 'the Countess']\n        \n        for title in mens_titles:\n            df.loc[df['Title'] == title, 'Title'] = 'Mr'\n        \n        for title in miss_titles :\n            df.loc[df['Title'] == title, 'Title'] = 'Miss'\n            \n        for title in mrs_titles:\n            df.loc[df['Title'] == title, 'Title'] = 'Mrs'\n            \n    encoded_titles = pd.get_dummies(df['Title'])\n    df = pd.concat([df, encoded_titles], axis=1)\n    df = df.drop(['Name', 'Title'], axis = 1)\n    return df\n\ndef build_model():\n    model = Pipeline([\n    ('scaler', StandardScaler()),\n    ('logreg', LogisticRegression())\n    ])\n\n    gs = GridSearchCV(\n        model,\n        {'logreg__penalty': ['l1', 'l2'],\n        'logreg__C': np.arange(0.01, 15, 0.1)},\n        cv=5,\n        n_jobs=4\n    )\n    return model, gs\ndef return_prediction(test):\n    prediction  = gs.predict(test)",
      "execution_count": 2,
      "outputs": []
    },
    {
      "metadata": {
        "trusted": true
      },
      "cell_type": "code",
      "source": "X = pd.read_csv('./train.csv')\nY = X.pop('Survived')\ntest = pd.read_csv('./test.csv')\nPID = test.pop('PassengerId')",
      "execution_count": 3,
      "outputs": []
    },
    {
      "metadata": {
        "trusted": true
      },
      "cell_type": "code",
      "source": "#Basic model\nX = remove_features(one_hot_encode_embarked(remove_nan(X)))\nX.head()",
      "execution_count": 4,
      "outputs": [
        {
          "output_type": "execute_result",
          "execution_count": 4,
          "data": {
            "text/plain": "   Pclass  Sex   Age  SibSp  Parch     Fare  C  Q  S\n0       3    0  22.0      1      0   7.2500  0  0  1\n1       1    1  38.0      1      0  71.2833  1  0  0\n2       3    1  26.0      0      0   7.9250  0  0  1\n3       1    1  35.0      1      0  53.1000  0  0  1\n4       3    0  35.0      0      0   8.0500  0  0  1",
            "text/html": "<div>\n<style scoped>\n    .dataframe tbody tr th:only-of-type {\n        vertical-align: middle;\n    }\n\n    .dataframe tbody tr th {\n        vertical-align: top;\n    }\n\n    .dataframe thead th {\n        text-align: right;\n    }\n</style>\n<table border=\"1\" class=\"dataframe\">\n  <thead>\n    <tr style=\"text-align: right;\">\n      <th></th>\n      <th>Pclass</th>\n      <th>Sex</th>\n      <th>Age</th>\n      <th>SibSp</th>\n      <th>Parch</th>\n      <th>Fare</th>\n      <th>C</th>\n      <th>Q</th>\n      <th>S</th>\n    </tr>\n  </thead>\n  <tbody>\n    <tr>\n      <th>0</th>\n      <td>3</td>\n      <td>0</td>\n      <td>22.0</td>\n      <td>1</td>\n      <td>0</td>\n      <td>7.2500</td>\n      <td>0</td>\n      <td>0</td>\n      <td>1</td>\n    </tr>\n    <tr>\n      <th>1</th>\n      <td>1</td>\n      <td>1</td>\n      <td>38.0</td>\n      <td>1</td>\n      <td>0</td>\n      <td>71.2833</td>\n      <td>1</td>\n      <td>0</td>\n      <td>0</td>\n    </tr>\n    <tr>\n      <th>2</th>\n      <td>3</td>\n      <td>1</td>\n      <td>26.0</td>\n      <td>0</td>\n      <td>0</td>\n      <td>7.9250</td>\n      <td>0</td>\n      <td>0</td>\n      <td>1</td>\n    </tr>\n    <tr>\n      <th>3</th>\n      <td>1</td>\n      <td>1</td>\n      <td>35.0</td>\n      <td>1</td>\n      <td>0</td>\n      <td>53.1000</td>\n      <td>0</td>\n      <td>0</td>\n      <td>1</td>\n    </tr>\n    <tr>\n      <th>4</th>\n      <td>3</td>\n      <td>0</td>\n      <td>35.0</td>\n      <td>0</td>\n      <td>0</td>\n      <td>8.0500</td>\n      <td>0</td>\n      <td>0</td>\n      <td>1</td>\n    </tr>\n  </tbody>\n</table>\n</div>"
          },
          "metadata": {}
        }
      ]
    },
    {
      "metadata": {
        "trusted": true
      },
      "cell_type": "code",
      "source": "X_train, X_test, y_train, y_test = train_test_split(*shuffle(X, Y), test_size=0.1)",
      "execution_count": 5,
      "outputs": []
    },
    {
      "metadata": {
        "trusted": true
      },
      "cell_type": "code",
      "source": "model, gs = build_model()\ngs.fit(X_train, y_train)\ngs.best_params_",
      "execution_count": 6,
      "outputs": [
        {
          "output_type": "execute_result",
          "execution_count": 6,
          "data": {
            "text/plain": "{'logreg__C': 0.11, 'logreg__penalty': 'l2'}"
          },
          "metadata": {}
        }
      ]
    },
    {
      "metadata": {
        "trusted": true,
        "scrolled": true
      },
      "cell_type": "code",
      "source": "prediction = gs.predict(X_test)\n\nprint 'Accuracy: %f' % metrics.accuracy_score(prediction, y_test)\nprint 'Recall: %f' % metrics.recall_score(prediction, y_test)\nprint 'Precision: %f' % metrics.precision_score(prediction, y_test)\nprint 'ROC AUC: %f'   %metrics.roc_auc_score(prediction, y_test)",
      "execution_count": 7,
      "outputs": [
        {
          "output_type": "stream",
          "text": "Accuracy: 0.877778\nRecall: 0.818182\nPrecision: 0.843750\nROC AUC: 0.865231\n",
          "name": "stdout"
        }
      ]
    },
    {
      "metadata": {
        "trusted": true
      },
      "cell_type": "markdown",
      "source": "## Flag age model   \n\nFlag age method isn't likely to work due to huge class imbalance 95-5% for infant and 98-2% for Geriatric but will put it through to see. \n\nSee Titanic Exploratory for more information"
    },
    {
      "metadata": {
        "trusted": true
      },
      "cell_type": "code",
      "source": "X = pd.read_csv('./train.csv')\nY = X.pop('Survived')",
      "execution_count": 8,
      "outputs": []
    },
    {
      "metadata": {
        "trusted": true,
        "scrolled": true
      },
      "cell_type": "code",
      "source": "X = flag_age(one_hot_encode_embarked(remove_features(remove_nan(X))))\nX.head()",
      "execution_count": 9,
      "outputs": [
        {
          "output_type": "execute_result",
          "execution_count": 9,
          "data": {
            "text/plain": "   Pclass  Sex   Age  SibSp  Parch     Fare  C  Q  S  Infant  Geriatric\n0       3    0  22.0      1      0   7.2500  0  0  1   False      False\n1       1    1  38.0      1      0  71.2833  1  0  0   False      False\n2       3    1  26.0      0      0   7.9250  0  0  1   False      False\n3       1    1  35.0      1      0  53.1000  0  0  1   False      False\n4       3    0  35.0      0      0   8.0500  0  0  1   False      False",
            "text/html": "<div>\n<style scoped>\n    .dataframe tbody tr th:only-of-type {\n        vertical-align: middle;\n    }\n\n    .dataframe tbody tr th {\n        vertical-align: top;\n    }\n\n    .dataframe thead th {\n        text-align: right;\n    }\n</style>\n<table border=\"1\" class=\"dataframe\">\n  <thead>\n    <tr style=\"text-align: right;\">\n      <th></th>\n      <th>Pclass</th>\n      <th>Sex</th>\n      <th>Age</th>\n      <th>SibSp</th>\n      <th>Parch</th>\n      <th>Fare</th>\n      <th>C</th>\n      <th>Q</th>\n      <th>S</th>\n      <th>Infant</th>\n      <th>Geriatric</th>\n    </tr>\n  </thead>\n  <tbody>\n    <tr>\n      <th>0</th>\n      <td>3</td>\n      <td>0</td>\n      <td>22.0</td>\n      <td>1</td>\n      <td>0</td>\n      <td>7.2500</td>\n      <td>0</td>\n      <td>0</td>\n      <td>1</td>\n      <td>False</td>\n      <td>False</td>\n    </tr>\n    <tr>\n      <th>1</th>\n      <td>1</td>\n      <td>1</td>\n      <td>38.0</td>\n      <td>1</td>\n      <td>0</td>\n      <td>71.2833</td>\n      <td>1</td>\n      <td>0</td>\n      <td>0</td>\n      <td>False</td>\n      <td>False</td>\n    </tr>\n    <tr>\n      <th>2</th>\n      <td>3</td>\n      <td>1</td>\n      <td>26.0</td>\n      <td>0</td>\n      <td>0</td>\n      <td>7.9250</td>\n      <td>0</td>\n      <td>0</td>\n      <td>1</td>\n      <td>False</td>\n      <td>False</td>\n    </tr>\n    <tr>\n      <th>3</th>\n      <td>1</td>\n      <td>1</td>\n      <td>35.0</td>\n      <td>1</td>\n      <td>0</td>\n      <td>53.1000</td>\n      <td>0</td>\n      <td>0</td>\n      <td>1</td>\n      <td>False</td>\n      <td>False</td>\n    </tr>\n    <tr>\n      <th>4</th>\n      <td>3</td>\n      <td>0</td>\n      <td>35.0</td>\n      <td>0</td>\n      <td>0</td>\n      <td>8.0500</td>\n      <td>0</td>\n      <td>0</td>\n      <td>1</td>\n      <td>False</td>\n      <td>False</td>\n    </tr>\n  </tbody>\n</table>\n</div>"
          },
          "metadata": {}
        }
      ]
    },
    {
      "metadata": {
        "trusted": true
      },
      "cell_type": "code",
      "source": "X_train, X_test, y_train, y_test = train_test_split(*shuffle(X, Y), test_size=0.1)\nage_model, age_gs = build_model()\nage_gs.fit(X_train, y_train)\nage_gs.best_params_",
      "execution_count": 10,
      "outputs": [
        {
          "output_type": "execute_result",
          "execution_count": 10,
          "data": {
            "text/plain": "{'logreg__C': 0.31000000000000005, 'logreg__penalty': 'l1'}"
          },
          "metadata": {}
        }
      ]
    },
    {
      "metadata": {
        "trusted": true
      },
      "cell_type": "code",
      "source": "prediction = age_gs.predict(X_test)\n\nprint 'Accuracy: %f' % metrics.accuracy_score(prediction, y_test)\nprint 'Recall: %f' % metrics.recall_score(prediction, y_test)\nprint 'Precision: %f' % metrics.precision_score(prediction, y_test)\nprint 'ROC AUC: %f'   %metrics.roc_auc_score(prediction, y_test)",
      "execution_count": 11,
      "outputs": [
        {
          "output_type": "stream",
          "text": "Accuracy: 0.822222\nRecall: 0.742857\nPrecision: 0.787879\nROC AUC: 0.807792\n",
          "name": "stdout"
        }
      ]
    },
    {
      "metadata": {
        "trusted": true
      },
      "cell_type": "markdown",
      "source": "# Title Model"
    },
    {
      "metadata": {
        "trusted": true
      },
      "cell_type": "code",
      "source": "X = pd.read_csv('./train.csv')\nY = X.pop('Survived')\ntest = pd.read_csv('./test.csv')\n",
      "execution_count": 12,
      "outputs": []
    },
    {
      "metadata": {
        "trusted": true,
        "scrolled": true
      },
      "cell_type": "code",
      "source": "X = remove_features(extract_titles(one_hot_encode_embarked(remove_nan(X))))\nX.head()",
      "execution_count": 13,
      "outputs": [
        {
          "output_type": "execute_result",
          "execution_count": 13,
          "data": {
            "text/plain": "   Pclass  Sex   Age  SibSp  Parch     Fare  C  Q  S  Master  Miss  Mr  Mrs\n0       3    0  22.0      1      0   7.2500  0  0  1       0     0   1    0\n1       1    1  38.0      1      0  71.2833  1  0  0       0     0   0    1\n2       3    1  26.0      0      0   7.9250  0  0  1       0     1   0    0\n3       1    1  35.0      1      0  53.1000  0  0  1       0     0   0    1\n4       3    0  35.0      0      0   8.0500  0  0  1       0     0   1    0",
            "text/html": "<div>\n<style scoped>\n    .dataframe tbody tr th:only-of-type {\n        vertical-align: middle;\n    }\n\n    .dataframe tbody tr th {\n        vertical-align: top;\n    }\n\n    .dataframe thead th {\n        text-align: right;\n    }\n</style>\n<table border=\"1\" class=\"dataframe\">\n  <thead>\n    <tr style=\"text-align: right;\">\n      <th></th>\n      <th>Pclass</th>\n      <th>Sex</th>\n      <th>Age</th>\n      <th>SibSp</th>\n      <th>Parch</th>\n      <th>Fare</th>\n      <th>C</th>\n      <th>Q</th>\n      <th>S</th>\n      <th>Master</th>\n      <th>Miss</th>\n      <th>Mr</th>\n      <th>Mrs</th>\n    </tr>\n  </thead>\n  <tbody>\n    <tr>\n      <th>0</th>\n      <td>3</td>\n      <td>0</td>\n      <td>22.0</td>\n      <td>1</td>\n      <td>0</td>\n      <td>7.2500</td>\n      <td>0</td>\n      <td>0</td>\n      <td>1</td>\n      <td>0</td>\n      <td>0</td>\n      <td>1</td>\n      <td>0</td>\n    </tr>\n    <tr>\n      <th>1</th>\n      <td>1</td>\n      <td>1</td>\n      <td>38.0</td>\n      <td>1</td>\n      <td>0</td>\n      <td>71.2833</td>\n      <td>1</td>\n      <td>0</td>\n      <td>0</td>\n      <td>0</td>\n      <td>0</td>\n      <td>0</td>\n      <td>1</td>\n    </tr>\n    <tr>\n      <th>2</th>\n      <td>3</td>\n      <td>1</td>\n      <td>26.0</td>\n      <td>0</td>\n      <td>0</td>\n      <td>7.9250</td>\n      <td>0</td>\n      <td>0</td>\n      <td>1</td>\n      <td>0</td>\n      <td>1</td>\n      <td>0</td>\n      <td>0</td>\n    </tr>\n    <tr>\n      <th>3</th>\n      <td>1</td>\n      <td>1</td>\n      <td>35.0</td>\n      <td>1</td>\n      <td>0</td>\n      <td>53.1000</td>\n      <td>0</td>\n      <td>0</td>\n      <td>1</td>\n      <td>0</td>\n      <td>0</td>\n      <td>0</td>\n      <td>1</td>\n    </tr>\n    <tr>\n      <th>4</th>\n      <td>3</td>\n      <td>0</td>\n      <td>35.0</td>\n      <td>0</td>\n      <td>0</td>\n      <td>8.0500</td>\n      <td>0</td>\n      <td>0</td>\n      <td>1</td>\n      <td>0</td>\n      <td>0</td>\n      <td>1</td>\n      <td>0</td>\n    </tr>\n  </tbody>\n</table>\n</div>"
          },
          "metadata": {}
        }
      ]
    },
    {
      "metadata": {
        "trusted": true,
        "scrolled": true
      },
      "cell_type": "code",
      "source": "X_train, X_test, y_train, y_test = train_test_split(*shuffle(X, Y), test_size=0.1)",
      "execution_count": 14,
      "outputs": []
    },
    {
      "metadata": {
        "trusted": true,
        "scrolled": true
      },
      "cell_type": "code",
      "source": "title_model, title_gs = build_model()\ntitle_gs.fit(X_train, y_train)\ntitle_gs.best_params_",
      "execution_count": 15,
      "outputs": [
        {
          "output_type": "execute_result",
          "execution_count": 15,
          "data": {
            "text/plain": "{'logreg__C': 0.31000000000000005, 'logreg__penalty': 'l1'}"
          },
          "metadata": {}
        }
      ]
    },
    {
      "metadata": {
        "trusted": true
      },
      "cell_type": "code",
      "source": "prediction = title_gs.predict(X_test)\n\nprint 'Accuracy: %f' % metrics.accuracy_score(prediction, y_test)\nprint 'Recall: %f' % metrics.recall_score(prediction, y_test)\nprint 'Precision: %f' % metrics.precision_score(prediction, y_test)\nprint 'ROC AUC: %f'   %metrics.roc_auc_score(prediction, y_test)",
      "execution_count": 16,
      "outputs": [
        {
          "output_type": "stream",
          "text": "Accuracy: 0.811111\nRecall: 0.821429\nPrecision: 0.657143\nROC AUC: 0.813940\n",
          "name": "stdout"
        }
      ]
    },
    {
      "metadata": {},
      "cell_type": "markdown",
      "source": "# Title and Age Model "
    },
    {
      "metadata": {
        "trusted": true
      },
      "cell_type": "code",
      "source": "X = pd.read_csv('./train.csv')\nY = X.pop('Survived')\ntest = pd.read_csv('./test.csv')\n",
      "execution_count": 17,
      "outputs": []
    },
    {
      "metadata": {
        "trusted": true,
        "scrolled": true
      },
      "cell_type": "code",
      "source": "X = remove_features(flag_age(extract_titles(one_hot_encode_embarked(remove_nan(X)))))\nX.head()",
      "execution_count": 18,
      "outputs": [
        {
          "output_type": "execute_result",
          "execution_count": 18,
          "data": {
            "text/plain": "   Pclass  Sex   Age  SibSp  Parch     Fare  C  Q  S  Master  Miss  Mr  Mrs  \\\n0       3    0  22.0      1      0   7.2500  0  0  1       0     0   1    0   \n1       1    1  38.0      1      0  71.2833  1  0  0       0     0   0    1   \n2       3    1  26.0      0      0   7.9250  0  0  1       0     1   0    0   \n3       1    1  35.0      1      0  53.1000  0  0  1       0     0   0    1   \n4       3    0  35.0      0      0   8.0500  0  0  1       0     0   1    0   \n\n   Infant  Geriatric  \n0   False      False  \n1   False      False  \n2   False      False  \n3   False      False  \n4   False      False  ",
            "text/html": "<div>\n<style scoped>\n    .dataframe tbody tr th:only-of-type {\n        vertical-align: middle;\n    }\n\n    .dataframe tbody tr th {\n        vertical-align: top;\n    }\n\n    .dataframe thead th {\n        text-align: right;\n    }\n</style>\n<table border=\"1\" class=\"dataframe\">\n  <thead>\n    <tr style=\"text-align: right;\">\n      <th></th>\n      <th>Pclass</th>\n      <th>Sex</th>\n      <th>Age</th>\n      <th>SibSp</th>\n      <th>Parch</th>\n      <th>Fare</th>\n      <th>C</th>\n      <th>Q</th>\n      <th>S</th>\n      <th>Master</th>\n      <th>Miss</th>\n      <th>Mr</th>\n      <th>Mrs</th>\n      <th>Infant</th>\n      <th>Geriatric</th>\n    </tr>\n  </thead>\n  <tbody>\n    <tr>\n      <th>0</th>\n      <td>3</td>\n      <td>0</td>\n      <td>22.0</td>\n      <td>1</td>\n      <td>0</td>\n      <td>7.2500</td>\n      <td>0</td>\n      <td>0</td>\n      <td>1</td>\n      <td>0</td>\n      <td>0</td>\n      <td>1</td>\n      <td>0</td>\n      <td>False</td>\n      <td>False</td>\n    </tr>\n    <tr>\n      <th>1</th>\n      <td>1</td>\n      <td>1</td>\n      <td>38.0</td>\n      <td>1</td>\n      <td>0</td>\n      <td>71.2833</td>\n      <td>1</td>\n      <td>0</td>\n      <td>0</td>\n      <td>0</td>\n      <td>0</td>\n      <td>0</td>\n      <td>1</td>\n      <td>False</td>\n      <td>False</td>\n    </tr>\n    <tr>\n      <th>2</th>\n      <td>3</td>\n      <td>1</td>\n      <td>26.0</td>\n      <td>0</td>\n      <td>0</td>\n      <td>7.9250</td>\n      <td>0</td>\n      <td>0</td>\n      <td>1</td>\n      <td>0</td>\n      <td>1</td>\n      <td>0</td>\n      <td>0</td>\n      <td>False</td>\n      <td>False</td>\n    </tr>\n    <tr>\n      <th>3</th>\n      <td>1</td>\n      <td>1</td>\n      <td>35.0</td>\n      <td>1</td>\n      <td>0</td>\n      <td>53.1000</td>\n      <td>0</td>\n      <td>0</td>\n      <td>1</td>\n      <td>0</td>\n      <td>0</td>\n      <td>0</td>\n      <td>1</td>\n      <td>False</td>\n      <td>False</td>\n    </tr>\n    <tr>\n      <th>4</th>\n      <td>3</td>\n      <td>0</td>\n      <td>35.0</td>\n      <td>0</td>\n      <td>0</td>\n      <td>8.0500</td>\n      <td>0</td>\n      <td>0</td>\n      <td>1</td>\n      <td>0</td>\n      <td>0</td>\n      <td>1</td>\n      <td>0</td>\n      <td>False</td>\n      <td>False</td>\n    </tr>\n  </tbody>\n</table>\n</div>"
          },
          "metadata": {}
        }
      ]
    },
    {
      "metadata": {
        "trusted": true,
        "scrolled": true
      },
      "cell_type": "code",
      "source": "X_train, X_test, y_train, y_test = train_test_split(*shuffle(X, Y), test_size=0.1)\ncombined_model, combined_gs = build_model()\ncombined_gs.fit(X_train, y_train)\ncombined_gs.best_params_",
      "execution_count": 19,
      "outputs": [
        {
          "output_type": "execute_result",
          "execution_count": 19,
          "data": {
            "text/plain": "{'logreg__C': 0.11, 'logreg__penalty': 'l1'}"
          },
          "metadata": {}
        }
      ]
    },
    {
      "metadata": {
        "trusted": true
      },
      "cell_type": "code",
      "source": "prediction = combined_gs.predict(X_test)\n\nprint 'Accuracy: %f' % metrics.accuracy_score(prediction, y_test)\nprint 'Recall: %f' % metrics.recall_score(prediction, y_test)\nprint 'Precision: %f' % metrics.precision_score(prediction, y_test)\nprint 'ROC AUC: %f'   %metrics.roc_auc_score(prediction, y_test)",
      "execution_count": 20,
      "outputs": [
        {
          "output_type": "stream",
          "text": "Accuracy: 0.855556\nRecall: 0.939394\nPrecision: 0.738095\nROC AUC: 0.873206\n",
          "name": "stdout"
        }
      ]
    },
    {
      "metadata": {},
      "cell_type": "markdown",
      "source": "# Tests with final Data\n\nInstead of splitting the train data into two, to benchmark each model this will return CSVs to submit to Kaggle"
    },
    {
      "metadata": {},
      "cell_type": "markdown",
      "source": "## Initial Model"
    },
    {
      "metadata": {
        "trusted": true
      },
      "cell_type": "code",
      "source": "X = pd.read_csv('./train.csv')\nY = X.pop('Survived')\ntest = pd.read_csv('./test.csv')\nPID = test.pop('PassengerId')",
      "execution_count": 21,
      "outputs": []
    },
    {
      "metadata": {
        "trusted": true,
        "scrolled": true
      },
      "cell_type": "code",
      "source": "X = one_hot_encode_embarked(remove_features(remove_nan(X)))\ntest = one_hot_encode_embarked(remove_features(remove_nan(test)))",
      "execution_count": 22,
      "outputs": []
    },
    {
      "metadata": {
        "trusted": true
      },
      "cell_type": "code",
      "source": "test.head()",
      "execution_count": 23,
      "outputs": [
        {
          "output_type": "execute_result",
          "execution_count": 23,
          "data": {
            "text/plain": "   Pclass  Sex   Age  SibSp  Parch     Fare  C  Q  S\n0       3    0  34.5      0      0   7.8292  0  1  0\n1       3    1  47.0      1      0   7.0000  0  0  1\n2       2    0  62.0      0      0   9.6875  0  1  0\n3       3    0  27.0      0      0   8.6625  0  0  1\n4       3    1  22.0      1      1  12.2875  0  0  1",
            "text/html": "<div>\n<style scoped>\n    .dataframe tbody tr th:only-of-type {\n        vertical-align: middle;\n    }\n\n    .dataframe tbody tr th {\n        vertical-align: top;\n    }\n\n    .dataframe thead th {\n        text-align: right;\n    }\n</style>\n<table border=\"1\" class=\"dataframe\">\n  <thead>\n    <tr style=\"text-align: right;\">\n      <th></th>\n      <th>Pclass</th>\n      <th>Sex</th>\n      <th>Age</th>\n      <th>SibSp</th>\n      <th>Parch</th>\n      <th>Fare</th>\n      <th>C</th>\n      <th>Q</th>\n      <th>S</th>\n    </tr>\n  </thead>\n  <tbody>\n    <tr>\n      <th>0</th>\n      <td>3</td>\n      <td>0</td>\n      <td>34.5</td>\n      <td>0</td>\n      <td>0</td>\n      <td>7.8292</td>\n      <td>0</td>\n      <td>1</td>\n      <td>0</td>\n    </tr>\n    <tr>\n      <th>1</th>\n      <td>3</td>\n      <td>1</td>\n      <td>47.0</td>\n      <td>1</td>\n      <td>0</td>\n      <td>7.0000</td>\n      <td>0</td>\n      <td>0</td>\n      <td>1</td>\n    </tr>\n    <tr>\n      <th>2</th>\n      <td>2</td>\n      <td>0</td>\n      <td>62.0</td>\n      <td>0</td>\n      <td>0</td>\n      <td>9.6875</td>\n      <td>0</td>\n      <td>1</td>\n      <td>0</td>\n    </tr>\n    <tr>\n      <th>3</th>\n      <td>3</td>\n      <td>0</td>\n      <td>27.0</td>\n      <td>0</td>\n      <td>0</td>\n      <td>8.6625</td>\n      <td>0</td>\n      <td>0</td>\n      <td>1</td>\n    </tr>\n    <tr>\n      <th>4</th>\n      <td>3</td>\n      <td>1</td>\n      <td>22.0</td>\n      <td>1</td>\n      <td>1</td>\n      <td>12.2875</td>\n      <td>0</td>\n      <td>0</td>\n      <td>1</td>\n    </tr>\n  </tbody>\n</table>\n</div>"
          },
          "metadata": {}
        }
      ]
    },
    {
      "metadata": {
        "trusted": true
      },
      "cell_type": "code",
      "source": "model, gs = build_model()\ngs.fit(X, Y)\nprediction = gs.predict(test)\npd.DataFrame({'PassengerId':PID, 'Survived': prediction}).set_index('PassengerId').to_csv('Basic_Predictions.csv')",
      "execution_count": 24,
      "outputs": []
    },
    {
      "metadata": {},
      "cell_type": "markdown",
      "source": "## Age Model"
    },
    {
      "metadata": {
        "trusted": true
      },
      "cell_type": "code",
      "source": "X = pd.read_csv('./train.csv')\nY = X.pop('Survived')\ntest = pd.read_csv('./test.csv')\nPID = test.pop('PassengerId')",
      "execution_count": 25,
      "outputs": []
    },
    {
      "metadata": {
        "trusted": true,
        "scrolled": true
      },
      "cell_type": "code",
      "source": "X = flag_age(one_hot_encode_embarked(remove_features(remove_nan(X))))\ntest = flag_age(one_hot_encode_embarked(remove_features(remove_nan(test))))",
      "execution_count": 26,
      "outputs": []
    },
    {
      "metadata": {
        "trusted": true
      },
      "cell_type": "code",
      "source": "age_model, age_gs = build_model()\nage_gs.fit(X, Y)\nprediction = age_gs.predict(test)\npd.DataFrame({'PassengerId':PID, 'Survived': prediction}).set_index('PassengerId').to_csv('Age_Predictions.csv')",
      "execution_count": 27,
      "outputs": []
    },
    {
      "metadata": {},
      "cell_type": "markdown",
      "source": "## Title Model"
    },
    {
      "metadata": {
        "trusted": true
      },
      "cell_type": "code",
      "source": "X = pd.read_csv('./train.csv')\nY = X.pop('Survived')\ntest = pd.read_csv('./test.csv')\nPID = test.pop('PassengerId')",
      "execution_count": 28,
      "outputs": []
    },
    {
      "metadata": {
        "trusted": true,
        "scrolled": false
      },
      "cell_type": "code",
      "source": "X = remove_features(extract_titles(one_hot_encode_embarked(remove_nan(X))))\ntest = remove_features(extract_titles(one_hot_encode_embarked(remove_nan(test))))\nX.head()",
      "execution_count": 29,
      "outputs": [
        {
          "output_type": "execute_result",
          "execution_count": 29,
          "data": {
            "text/plain": "   Pclass  Sex   Age  SibSp  Parch     Fare  C  Q  S  Master  Miss  Mr  Mrs\n0       3    0  22.0      1      0   7.2500  0  0  1       0     0   1    0\n1       1    1  38.0      1      0  71.2833  1  0  0       0     0   0    1\n2       3    1  26.0      0      0   7.9250  0  0  1       0     1   0    0\n3       1    1  35.0      1      0  53.1000  0  0  1       0     0   0    1\n4       3    0  35.0      0      0   8.0500  0  0  1       0     0   1    0",
            "text/html": "<div>\n<style scoped>\n    .dataframe tbody tr th:only-of-type {\n        vertical-align: middle;\n    }\n\n    .dataframe tbody tr th {\n        vertical-align: top;\n    }\n\n    .dataframe thead th {\n        text-align: right;\n    }\n</style>\n<table border=\"1\" class=\"dataframe\">\n  <thead>\n    <tr style=\"text-align: right;\">\n      <th></th>\n      <th>Pclass</th>\n      <th>Sex</th>\n      <th>Age</th>\n      <th>SibSp</th>\n      <th>Parch</th>\n      <th>Fare</th>\n      <th>C</th>\n      <th>Q</th>\n      <th>S</th>\n      <th>Master</th>\n      <th>Miss</th>\n      <th>Mr</th>\n      <th>Mrs</th>\n    </tr>\n  </thead>\n  <tbody>\n    <tr>\n      <th>0</th>\n      <td>3</td>\n      <td>0</td>\n      <td>22.0</td>\n      <td>1</td>\n      <td>0</td>\n      <td>7.2500</td>\n      <td>0</td>\n      <td>0</td>\n      <td>1</td>\n      <td>0</td>\n      <td>0</td>\n      <td>1</td>\n      <td>0</td>\n    </tr>\n    <tr>\n      <th>1</th>\n      <td>1</td>\n      <td>1</td>\n      <td>38.0</td>\n      <td>1</td>\n      <td>0</td>\n      <td>71.2833</td>\n      <td>1</td>\n      <td>0</td>\n      <td>0</td>\n      <td>0</td>\n      <td>0</td>\n      <td>0</td>\n      <td>1</td>\n    </tr>\n    <tr>\n      <th>2</th>\n      <td>3</td>\n      <td>1</td>\n      <td>26.0</td>\n      <td>0</td>\n      <td>0</td>\n      <td>7.9250</td>\n      <td>0</td>\n      <td>0</td>\n      <td>1</td>\n      <td>0</td>\n      <td>1</td>\n      <td>0</td>\n      <td>0</td>\n    </tr>\n    <tr>\n      <th>3</th>\n      <td>1</td>\n      <td>1</td>\n      <td>35.0</td>\n      <td>1</td>\n      <td>0</td>\n      <td>53.1000</td>\n      <td>0</td>\n      <td>0</td>\n      <td>1</td>\n      <td>0</td>\n      <td>0</td>\n      <td>0</td>\n      <td>1</td>\n    </tr>\n    <tr>\n      <th>4</th>\n      <td>3</td>\n      <td>0</td>\n      <td>35.0</td>\n      <td>0</td>\n      <td>0</td>\n      <td>8.0500</td>\n      <td>0</td>\n      <td>0</td>\n      <td>1</td>\n      <td>0</td>\n      <td>0</td>\n      <td>1</td>\n      <td>0</td>\n    </tr>\n  </tbody>\n</table>\n</div>"
          },
          "metadata": {}
        }
      ]
    },
    {
      "metadata": {
        "trusted": true
      },
      "cell_type": "code",
      "source": "test.head()",
      "execution_count": 30,
      "outputs": [
        {
          "output_type": "execute_result",
          "execution_count": 30,
          "data": {
            "text/plain": "   Pclass  Sex   Age  SibSp  Parch     Fare  C  Q  S  Master  Miss  Mr  Mrs\n0       3    0  34.5      0      0   7.8292  0  1  0       0     0   1    0\n1       3    1  47.0      1      0   7.0000  0  0  1       0     0   0    1\n2       2    0  62.0      0      0   9.6875  0  1  0       0     0   1    0\n3       3    0  27.0      0      0   8.6625  0  0  1       0     0   1    0\n4       3    1  22.0      1      1  12.2875  0  0  1       0     0   0    1",
            "text/html": "<div>\n<style scoped>\n    .dataframe tbody tr th:only-of-type {\n        vertical-align: middle;\n    }\n\n    .dataframe tbody tr th {\n        vertical-align: top;\n    }\n\n    .dataframe thead th {\n        text-align: right;\n    }\n</style>\n<table border=\"1\" class=\"dataframe\">\n  <thead>\n    <tr style=\"text-align: right;\">\n      <th></th>\n      <th>Pclass</th>\n      <th>Sex</th>\n      <th>Age</th>\n      <th>SibSp</th>\n      <th>Parch</th>\n      <th>Fare</th>\n      <th>C</th>\n      <th>Q</th>\n      <th>S</th>\n      <th>Master</th>\n      <th>Miss</th>\n      <th>Mr</th>\n      <th>Mrs</th>\n    </tr>\n  </thead>\n  <tbody>\n    <tr>\n      <th>0</th>\n      <td>3</td>\n      <td>0</td>\n      <td>34.5</td>\n      <td>0</td>\n      <td>0</td>\n      <td>7.8292</td>\n      <td>0</td>\n      <td>1</td>\n      <td>0</td>\n      <td>0</td>\n      <td>0</td>\n      <td>1</td>\n      <td>0</td>\n    </tr>\n    <tr>\n      <th>1</th>\n      <td>3</td>\n      <td>1</td>\n      <td>47.0</td>\n      <td>1</td>\n      <td>0</td>\n      <td>7.0000</td>\n      <td>0</td>\n      <td>0</td>\n      <td>1</td>\n      <td>0</td>\n      <td>0</td>\n      <td>0</td>\n      <td>1</td>\n    </tr>\n    <tr>\n      <th>2</th>\n      <td>2</td>\n      <td>0</td>\n      <td>62.0</td>\n      <td>0</td>\n      <td>0</td>\n      <td>9.6875</td>\n      <td>0</td>\n      <td>1</td>\n      <td>0</td>\n      <td>0</td>\n      <td>0</td>\n      <td>1</td>\n      <td>0</td>\n    </tr>\n    <tr>\n      <th>3</th>\n      <td>3</td>\n      <td>0</td>\n      <td>27.0</td>\n      <td>0</td>\n      <td>0</td>\n      <td>8.6625</td>\n      <td>0</td>\n      <td>0</td>\n      <td>1</td>\n      <td>0</td>\n      <td>0</td>\n      <td>1</td>\n      <td>0</td>\n    </tr>\n    <tr>\n      <th>4</th>\n      <td>3</td>\n      <td>1</td>\n      <td>22.0</td>\n      <td>1</td>\n      <td>1</td>\n      <td>12.2875</td>\n      <td>0</td>\n      <td>0</td>\n      <td>1</td>\n      <td>0</td>\n      <td>0</td>\n      <td>0</td>\n      <td>1</td>\n    </tr>\n  </tbody>\n</table>\n</div>"
          },
          "metadata": {}
        }
      ]
    },
    {
      "metadata": {
        "trusted": true
      },
      "cell_type": "code",
      "source": "title_model, title_gs = build_model()\ntitle_gs.fit(X, Y)\nprediction = title_gs.predict(test)\npd.DataFrame({'PassengerId':PID, 'Survived': prediction}).set_index('PassengerId').to_csv('Title_Predictions.csv')",
      "execution_count": 31,
      "outputs": []
    },
    {
      "metadata": {},
      "cell_type": "markdown",
      "source": "## Age and Title Model "
    },
    {
      "metadata": {
        "trusted": true
      },
      "cell_type": "code",
      "source": "X = pd.read_csv('./train.csv')\nY = X.pop('Survived')\ntest = pd.read_csv('./test.csv')\nPID = test.pop('PassengerId')",
      "execution_count": 32,
      "outputs": []
    },
    {
      "metadata": {
        "trusted": true,
        "scrolled": true
      },
      "cell_type": "code",
      "source": "X = remove_features(flag_age(extract_titles(one_hot_encode_embarked(remove_nan(X)))))\ntest = remove_features(flag_age(extract_titles(one_hot_encode_embarked(remove_nan(test)))))\nX",
      "execution_count": 33,
      "outputs": [
        {
          "output_type": "execute_result",
          "execution_count": 33,
          "data": {
            "text/plain": "     Pclass  Sex       Age  SibSp  Parch      Fare  C  Q  S  Master  Miss  Mr  \\\n0         3    0  22.00000      1      0    7.2500  0  0  1       0     0   1   \n1         1    1  38.00000      1      0   71.2833  1  0  0       0     0   0   \n2         3    1  26.00000      0      0    7.9250  0  0  1       0     1   0   \n3         1    1  35.00000      1      0   53.1000  0  0  1       0     0   0   \n4         3    0  35.00000      0      0    8.0500  0  0  1       0     0   1   \n5         3    0  25.14062      0      0    8.4583  0  1  0       0     0   1   \n6         1    0  54.00000      0      0   51.8625  0  0  1       0     0   1   \n7         3    0   2.00000      3      1   21.0750  0  0  1       1     0   0   \n8         3    1  27.00000      0      2   11.1333  0  0  1       0     0   0   \n9         2    1  14.00000      1      0   30.0708  1  0  0       0     0   0   \n10        3    1   4.00000      1      1   16.7000  0  0  1       0     1   0   \n11        1    1  58.00000      0      0   26.5500  0  0  1       0     1   0   \n12        3    0  20.00000      0      0    8.0500  0  0  1       0     0   1   \n13        3    0  39.00000      1      5   31.2750  0  0  1       0     0   1   \n14        3    1  14.00000      0      0    7.8542  0  0  1       0     1   0   \n15        2    1  55.00000      0      0   16.0000  0  0  1       0     0   0   \n16        3    0   2.00000      4      1   29.1250  0  1  0       1     0   0   \n17        2    0  29.87763      0      0   13.0000  0  0  1       0     0   1   \n18        3    1  31.00000      1      0   18.0000  0  0  1       0     0   0   \n19        3    1  25.14062      0      0    7.2250  1  0  0       0     0   0   \n20        2    0  35.00000      0      0   26.0000  0  0  1       0     0   1   \n21        2    0  34.00000      0      0   13.0000  0  0  1       0     0   1   \n22        3    1  15.00000      0      0    8.0292  0  1  0       0     1   0   \n23        1    0  28.00000      0      0   35.5000  0  0  1       0     0   1   \n24        3    1   8.00000      3      1   21.0750  0  0  1       0     1   0   \n25        3    1  38.00000      1      5   31.3875  0  0  1       0     0   0   \n26        3    0  25.14062      0      0    7.2250  1  0  0       0     0   1   \n27        1    0  19.00000      3      2  263.0000  0  0  1       0     0   1   \n28        3    1  25.14062      0      0    7.8792  0  1  0       0     1   0   \n29        3    0  25.14062      0      0    7.8958  0  0  1       0     0   1   \n..      ...  ...       ...    ...    ...       ... .. .. ..     ...   ...  ..   \n861       2    0  21.00000      1      0   11.5000  0  0  1       0     0   1   \n862       1    1  48.00000      0      0   25.9292  0  0  1       0     0   0   \n863       3    1  25.14062      8      2   69.5500  0  0  1       0     1   0   \n864       2    0  24.00000      0      0   13.0000  0  0  1       0     0   1   \n865       2    1  42.00000      0      0   13.0000  0  0  1       0     0   0   \n866       2    1  27.00000      1      0   13.8583  1  0  0       0     1   0   \n867       1    0  31.00000      0      0   50.4958  0  0  1       0     0   1   \n868       3    0  25.14062      0      0    9.5000  0  0  1       0     0   1   \n869       3    0   4.00000      1      1   11.1333  0  0  1       1     0   0   \n870       3    0  26.00000      0      0    7.8958  0  0  1       0     0   1   \n871       1    1  47.00000      1      1   52.5542  0  0  1       0     0   0   \n872       1    0  33.00000      0      0    5.0000  0  0  1       0     0   1   \n873       3    0  47.00000      0      0    9.0000  0  0  1       0     0   1   \n874       2    1  28.00000      1      0   24.0000  1  0  0       0     0   0   \n875       3    1  15.00000      0      0    7.2250  1  0  0       0     1   0   \n876       3    0  20.00000      0      0    9.8458  0  0  1       0     0   1   \n877       3    0  19.00000      0      0    7.8958  0  0  1       0     0   1   \n878       3    0  25.14062      0      0    7.8958  0  0  1       0     0   1   \n879       1    1  56.00000      0      1   83.1583  1  0  0       0     0   0   \n880       2    1  25.00000      0      1   26.0000  0  0  1       0     0   0   \n881       3    0  33.00000      0      0    7.8958  0  0  1       0     0   1   \n882       3    1  22.00000      0      0   10.5167  0  0  1       0     1   0   \n883       2    0  28.00000      0      0   10.5000  0  0  1       0     0   1   \n884       3    0  25.00000      0      0    7.0500  0  0  1       0     0   1   \n885       3    1  39.00000      0      5   29.1250  0  1  0       0     0   0   \n886       2    0  27.00000      0      0   13.0000  0  0  1       0     0   1   \n887       1    1  19.00000      0      0   30.0000  0  0  1       0     1   0   \n888       3    1  25.14062      1      2   23.4500  0  0  1       0     1   0   \n889       1    0  26.00000      0      0   30.0000  1  0  0       0     0   1   \n890       3    0  32.00000      0      0    7.7500  0  1  0       0     0   1   \n\n     Mrs  Infant  Geriatric  \n0      0   False      False  \n1      1   False      False  \n2      0   False      False  \n3      1   False      False  \n4      0   False      False  \n5      0   False      False  \n6      0   False      False  \n7      0    True      False  \n8      1   False      False  \n9      1   False      False  \n10     0    True      False  \n11     0   False      False  \n12     0   False      False  \n13     0   False      False  \n14     0   False      False  \n15     1   False      False  \n16     0    True      False  \n17     0   False      False  \n18     1   False      False  \n19     1   False      False  \n20     0   False      False  \n21     0   False      False  \n22     0   False      False  \n23     0   False      False  \n24     0   False      False  \n25     1   False      False  \n26     0   False      False  \n27     0   False      False  \n28     0   False      False  \n29     0   False      False  \n..   ...     ...        ...  \n861    0   False      False  \n862    1   False      False  \n863    0   False      False  \n864    0   False      False  \n865    1   False      False  \n866    0   False      False  \n867    0   False      False  \n868    0   False      False  \n869    0    True      False  \n870    0   False      False  \n871    1   False      False  \n872    0   False      False  \n873    0   False      False  \n874    1   False      False  \n875    0   False      False  \n876    0   False      False  \n877    0   False      False  \n878    0   False      False  \n879    1   False      False  \n880    1   False      False  \n881    0   False      False  \n882    0   False      False  \n883    0   False      False  \n884    0   False      False  \n885    1   False      False  \n886    0   False      False  \n887    0   False      False  \n888    0   False      False  \n889    0   False      False  \n890    0   False      False  \n\n[891 rows x 15 columns]",
            "text/html": "<div>\n<style scoped>\n    .dataframe tbody tr th:only-of-type {\n        vertical-align: middle;\n    }\n\n    .dataframe tbody tr th {\n        vertical-align: top;\n    }\n\n    .dataframe thead th {\n        text-align: right;\n    }\n</style>\n<table border=\"1\" class=\"dataframe\">\n  <thead>\n    <tr style=\"text-align: right;\">\n      <th></th>\n      <th>Pclass</th>\n      <th>Sex</th>\n      <th>Age</th>\n      <th>SibSp</th>\n      <th>Parch</th>\n      <th>Fare</th>\n      <th>C</th>\n      <th>Q</th>\n      <th>S</th>\n      <th>Master</th>\n      <th>Miss</th>\n      <th>Mr</th>\n      <th>Mrs</th>\n      <th>Infant</th>\n      <th>Geriatric</th>\n    </tr>\n  </thead>\n  <tbody>\n    <tr>\n      <th>0</th>\n      <td>3</td>\n      <td>0</td>\n      <td>22.00000</td>\n      <td>1</td>\n      <td>0</td>\n      <td>7.2500</td>\n      <td>0</td>\n      <td>0</td>\n      <td>1</td>\n      <td>0</td>\n      <td>0</td>\n      <td>1</td>\n      <td>0</td>\n      <td>False</td>\n      <td>False</td>\n    </tr>\n    <tr>\n      <th>1</th>\n      <td>1</td>\n      <td>1</td>\n      <td>38.00000</td>\n      <td>1</td>\n      <td>0</td>\n      <td>71.2833</td>\n      <td>1</td>\n      <td>0</td>\n      <td>0</td>\n      <td>0</td>\n      <td>0</td>\n      <td>0</td>\n      <td>1</td>\n      <td>False</td>\n      <td>False</td>\n    </tr>\n    <tr>\n      <th>2</th>\n      <td>3</td>\n      <td>1</td>\n      <td>26.00000</td>\n      <td>0</td>\n      <td>0</td>\n      <td>7.9250</td>\n      <td>0</td>\n      <td>0</td>\n      <td>1</td>\n      <td>0</td>\n      <td>1</td>\n      <td>0</td>\n      <td>0</td>\n      <td>False</td>\n      <td>False</td>\n    </tr>\n    <tr>\n      <th>3</th>\n      <td>1</td>\n      <td>1</td>\n      <td>35.00000</td>\n      <td>1</td>\n      <td>0</td>\n      <td>53.1000</td>\n      <td>0</td>\n      <td>0</td>\n      <td>1</td>\n      <td>0</td>\n      <td>0</td>\n      <td>0</td>\n      <td>1</td>\n      <td>False</td>\n      <td>False</td>\n    </tr>\n    <tr>\n      <th>4</th>\n      <td>3</td>\n      <td>0</td>\n      <td>35.00000</td>\n      <td>0</td>\n      <td>0</td>\n      <td>8.0500</td>\n      <td>0</td>\n      <td>0</td>\n      <td>1</td>\n      <td>0</td>\n      <td>0</td>\n      <td>1</td>\n      <td>0</td>\n      <td>False</td>\n      <td>False</td>\n    </tr>\n    <tr>\n      <th>5</th>\n      <td>3</td>\n      <td>0</td>\n      <td>25.14062</td>\n      <td>0</td>\n      <td>0</td>\n      <td>8.4583</td>\n      <td>0</td>\n      <td>1</td>\n      <td>0</td>\n      <td>0</td>\n      <td>0</td>\n      <td>1</td>\n      <td>0</td>\n      <td>False</td>\n      <td>False</td>\n    </tr>\n    <tr>\n      <th>6</th>\n      <td>1</td>\n      <td>0</td>\n      <td>54.00000</td>\n      <td>0</td>\n      <td>0</td>\n      <td>51.8625</td>\n      <td>0</td>\n      <td>0</td>\n      <td>1</td>\n      <td>0</td>\n      <td>0</td>\n      <td>1</td>\n      <td>0</td>\n      <td>False</td>\n      <td>False</td>\n    </tr>\n    <tr>\n      <th>7</th>\n      <td>3</td>\n      <td>0</td>\n      <td>2.00000</td>\n      <td>3</td>\n      <td>1</td>\n      <td>21.0750</td>\n      <td>0</td>\n      <td>0</td>\n      <td>1</td>\n      <td>1</td>\n      <td>0</td>\n      <td>0</td>\n      <td>0</td>\n      <td>True</td>\n      <td>False</td>\n    </tr>\n    <tr>\n      <th>8</th>\n      <td>3</td>\n      <td>1</td>\n      <td>27.00000</td>\n      <td>0</td>\n      <td>2</td>\n      <td>11.1333</td>\n      <td>0</td>\n      <td>0</td>\n      <td>1</td>\n      <td>0</td>\n      <td>0</td>\n      <td>0</td>\n      <td>1</td>\n      <td>False</td>\n      <td>False</td>\n    </tr>\n    <tr>\n      <th>9</th>\n      <td>2</td>\n      <td>1</td>\n      <td>14.00000</td>\n      <td>1</td>\n      <td>0</td>\n      <td>30.0708</td>\n      <td>1</td>\n      <td>0</td>\n      <td>0</td>\n      <td>0</td>\n      <td>0</td>\n      <td>0</td>\n      <td>1</td>\n      <td>False</td>\n      <td>False</td>\n    </tr>\n    <tr>\n      <th>10</th>\n      <td>3</td>\n      <td>1</td>\n      <td>4.00000</td>\n      <td>1</td>\n      <td>1</td>\n      <td>16.7000</td>\n      <td>0</td>\n      <td>0</td>\n      <td>1</td>\n      <td>0</td>\n      <td>1</td>\n      <td>0</td>\n      <td>0</td>\n      <td>True</td>\n      <td>False</td>\n    </tr>\n    <tr>\n      <th>11</th>\n      <td>1</td>\n      <td>1</td>\n      <td>58.00000</td>\n      <td>0</td>\n      <td>0</td>\n      <td>26.5500</td>\n      <td>0</td>\n      <td>0</td>\n      <td>1</td>\n      <td>0</td>\n      <td>1</td>\n      <td>0</td>\n      <td>0</td>\n      <td>False</td>\n      <td>False</td>\n    </tr>\n    <tr>\n      <th>12</th>\n      <td>3</td>\n      <td>0</td>\n      <td>20.00000</td>\n      <td>0</td>\n      <td>0</td>\n      <td>8.0500</td>\n      <td>0</td>\n      <td>0</td>\n      <td>1</td>\n      <td>0</td>\n      <td>0</td>\n      <td>1</td>\n      <td>0</td>\n      <td>False</td>\n      <td>False</td>\n    </tr>\n    <tr>\n      <th>13</th>\n      <td>3</td>\n      <td>0</td>\n      <td>39.00000</td>\n      <td>1</td>\n      <td>5</td>\n      <td>31.2750</td>\n      <td>0</td>\n      <td>0</td>\n      <td>1</td>\n      <td>0</td>\n      <td>0</td>\n      <td>1</td>\n      <td>0</td>\n      <td>False</td>\n      <td>False</td>\n    </tr>\n    <tr>\n      <th>14</th>\n      <td>3</td>\n      <td>1</td>\n      <td>14.00000</td>\n      <td>0</td>\n      <td>0</td>\n      <td>7.8542</td>\n      <td>0</td>\n      <td>0</td>\n      <td>1</td>\n      <td>0</td>\n      <td>1</td>\n      <td>0</td>\n      <td>0</td>\n      <td>False</td>\n      <td>False</td>\n    </tr>\n    <tr>\n      <th>15</th>\n      <td>2</td>\n      <td>1</td>\n      <td>55.00000</td>\n      <td>0</td>\n      <td>0</td>\n      <td>16.0000</td>\n      <td>0</td>\n      <td>0</td>\n      <td>1</td>\n      <td>0</td>\n      <td>0</td>\n      <td>0</td>\n      <td>1</td>\n      <td>False</td>\n      <td>False</td>\n    </tr>\n    <tr>\n      <th>16</th>\n      <td>3</td>\n      <td>0</td>\n      <td>2.00000</td>\n      <td>4</td>\n      <td>1</td>\n      <td>29.1250</td>\n      <td>0</td>\n      <td>1</td>\n      <td>0</td>\n      <td>1</td>\n      <td>0</td>\n      <td>0</td>\n      <td>0</td>\n      <td>True</td>\n      <td>False</td>\n    </tr>\n    <tr>\n      <th>17</th>\n      <td>2</td>\n      <td>0</td>\n      <td>29.87763</td>\n      <td>0</td>\n      <td>0</td>\n      <td>13.0000</td>\n      <td>0</td>\n      <td>0</td>\n      <td>1</td>\n      <td>0</td>\n      <td>0</td>\n      <td>1</td>\n      <td>0</td>\n      <td>False</td>\n      <td>False</td>\n    </tr>\n    <tr>\n      <th>18</th>\n      <td>3</td>\n      <td>1</td>\n      <td>31.00000</td>\n      <td>1</td>\n      <td>0</td>\n      <td>18.0000</td>\n      <td>0</td>\n      <td>0</td>\n      <td>1</td>\n      <td>0</td>\n      <td>0</td>\n      <td>0</td>\n      <td>1</td>\n      <td>False</td>\n      <td>False</td>\n    </tr>\n    <tr>\n      <th>19</th>\n      <td>3</td>\n      <td>1</td>\n      <td>25.14062</td>\n      <td>0</td>\n      <td>0</td>\n      <td>7.2250</td>\n      <td>1</td>\n      <td>0</td>\n      <td>0</td>\n      <td>0</td>\n      <td>0</td>\n      <td>0</td>\n      <td>1</td>\n      <td>False</td>\n      <td>False</td>\n    </tr>\n    <tr>\n      <th>20</th>\n      <td>2</td>\n      <td>0</td>\n      <td>35.00000</td>\n      <td>0</td>\n      <td>0</td>\n      <td>26.0000</td>\n      <td>0</td>\n      <td>0</td>\n      <td>1</td>\n      <td>0</td>\n      <td>0</td>\n      <td>1</td>\n      <td>0</td>\n      <td>False</td>\n      <td>False</td>\n    </tr>\n    <tr>\n      <th>21</th>\n      <td>2</td>\n      <td>0</td>\n      <td>34.00000</td>\n      <td>0</td>\n      <td>0</td>\n      <td>13.0000</td>\n      <td>0</td>\n      <td>0</td>\n      <td>1</td>\n      <td>0</td>\n      <td>0</td>\n      <td>1</td>\n      <td>0</td>\n      <td>False</td>\n      <td>False</td>\n    </tr>\n    <tr>\n      <th>22</th>\n      <td>3</td>\n      <td>1</td>\n      <td>15.00000</td>\n      <td>0</td>\n      <td>0</td>\n      <td>8.0292</td>\n      <td>0</td>\n      <td>1</td>\n      <td>0</td>\n      <td>0</td>\n      <td>1</td>\n      <td>0</td>\n      <td>0</td>\n      <td>False</td>\n      <td>False</td>\n    </tr>\n    <tr>\n      <th>23</th>\n      <td>1</td>\n      <td>0</td>\n      <td>28.00000</td>\n      <td>0</td>\n      <td>0</td>\n      <td>35.5000</td>\n      <td>0</td>\n      <td>0</td>\n      <td>1</td>\n      <td>0</td>\n      <td>0</td>\n      <td>1</td>\n      <td>0</td>\n      <td>False</td>\n      <td>False</td>\n    </tr>\n    <tr>\n      <th>24</th>\n      <td>3</td>\n      <td>1</td>\n      <td>8.00000</td>\n      <td>3</td>\n      <td>1</td>\n      <td>21.0750</td>\n      <td>0</td>\n      <td>0</td>\n      <td>1</td>\n      <td>0</td>\n      <td>1</td>\n      <td>0</td>\n      <td>0</td>\n      <td>False</td>\n      <td>False</td>\n    </tr>\n    <tr>\n      <th>25</th>\n      <td>3</td>\n      <td>1</td>\n      <td>38.00000</td>\n      <td>1</td>\n      <td>5</td>\n      <td>31.3875</td>\n      <td>0</td>\n      <td>0</td>\n      <td>1</td>\n      <td>0</td>\n      <td>0</td>\n      <td>0</td>\n      <td>1</td>\n      <td>False</td>\n      <td>False</td>\n    </tr>\n    <tr>\n      <th>26</th>\n      <td>3</td>\n      <td>0</td>\n      <td>25.14062</td>\n      <td>0</td>\n      <td>0</td>\n      <td>7.2250</td>\n      <td>1</td>\n      <td>0</td>\n      <td>0</td>\n      <td>0</td>\n      <td>0</td>\n      <td>1</td>\n      <td>0</td>\n      <td>False</td>\n      <td>False</td>\n    </tr>\n    <tr>\n      <th>27</th>\n      <td>1</td>\n      <td>0</td>\n      <td>19.00000</td>\n      <td>3</td>\n      <td>2</td>\n      <td>263.0000</td>\n      <td>0</td>\n      <td>0</td>\n      <td>1</td>\n      <td>0</td>\n      <td>0</td>\n      <td>1</td>\n      <td>0</td>\n      <td>False</td>\n      <td>False</td>\n    </tr>\n    <tr>\n      <th>28</th>\n      <td>3</td>\n      <td>1</td>\n      <td>25.14062</td>\n      <td>0</td>\n      <td>0</td>\n      <td>7.8792</td>\n      <td>0</td>\n      <td>1</td>\n      <td>0</td>\n      <td>0</td>\n      <td>1</td>\n      <td>0</td>\n      <td>0</td>\n      <td>False</td>\n      <td>False</td>\n    </tr>\n    <tr>\n      <th>29</th>\n      <td>3</td>\n      <td>0</td>\n      <td>25.14062</td>\n      <td>0</td>\n      <td>0</td>\n      <td>7.8958</td>\n      <td>0</td>\n      <td>0</td>\n      <td>1</td>\n      <td>0</td>\n      <td>0</td>\n      <td>1</td>\n      <td>0</td>\n      <td>False</td>\n      <td>False</td>\n    </tr>\n    <tr>\n      <th>...</th>\n      <td>...</td>\n      <td>...</td>\n      <td>...</td>\n      <td>...</td>\n      <td>...</td>\n      <td>...</td>\n      <td>...</td>\n      <td>...</td>\n      <td>...</td>\n      <td>...</td>\n      <td>...</td>\n      <td>...</td>\n      <td>...</td>\n      <td>...</td>\n      <td>...</td>\n    </tr>\n    <tr>\n      <th>861</th>\n      <td>2</td>\n      <td>0</td>\n      <td>21.00000</td>\n      <td>1</td>\n      <td>0</td>\n      <td>11.5000</td>\n      <td>0</td>\n      <td>0</td>\n      <td>1</td>\n      <td>0</td>\n      <td>0</td>\n      <td>1</td>\n      <td>0</td>\n      <td>False</td>\n      <td>False</td>\n    </tr>\n    <tr>\n      <th>862</th>\n      <td>1</td>\n      <td>1</td>\n      <td>48.00000</td>\n      <td>0</td>\n      <td>0</td>\n      <td>25.9292</td>\n      <td>0</td>\n      <td>0</td>\n      <td>1</td>\n      <td>0</td>\n      <td>0</td>\n      <td>0</td>\n      <td>1</td>\n      <td>False</td>\n      <td>False</td>\n    </tr>\n    <tr>\n      <th>863</th>\n      <td>3</td>\n      <td>1</td>\n      <td>25.14062</td>\n      <td>8</td>\n      <td>2</td>\n      <td>69.5500</td>\n      <td>0</td>\n      <td>0</td>\n      <td>1</td>\n      <td>0</td>\n      <td>1</td>\n      <td>0</td>\n      <td>0</td>\n      <td>False</td>\n      <td>False</td>\n    </tr>\n    <tr>\n      <th>864</th>\n      <td>2</td>\n      <td>0</td>\n      <td>24.00000</td>\n      <td>0</td>\n      <td>0</td>\n      <td>13.0000</td>\n      <td>0</td>\n      <td>0</td>\n      <td>1</td>\n      <td>0</td>\n      <td>0</td>\n      <td>1</td>\n      <td>0</td>\n      <td>False</td>\n      <td>False</td>\n    </tr>\n    <tr>\n      <th>865</th>\n      <td>2</td>\n      <td>1</td>\n      <td>42.00000</td>\n      <td>0</td>\n      <td>0</td>\n      <td>13.0000</td>\n      <td>0</td>\n      <td>0</td>\n      <td>1</td>\n      <td>0</td>\n      <td>0</td>\n      <td>0</td>\n      <td>1</td>\n      <td>False</td>\n      <td>False</td>\n    </tr>\n    <tr>\n      <th>866</th>\n      <td>2</td>\n      <td>1</td>\n      <td>27.00000</td>\n      <td>1</td>\n      <td>0</td>\n      <td>13.8583</td>\n      <td>1</td>\n      <td>0</td>\n      <td>0</td>\n      <td>0</td>\n      <td>1</td>\n      <td>0</td>\n      <td>0</td>\n      <td>False</td>\n      <td>False</td>\n    </tr>\n    <tr>\n      <th>867</th>\n      <td>1</td>\n      <td>0</td>\n      <td>31.00000</td>\n      <td>0</td>\n      <td>0</td>\n      <td>50.4958</td>\n      <td>0</td>\n      <td>0</td>\n      <td>1</td>\n      <td>0</td>\n      <td>0</td>\n      <td>1</td>\n      <td>0</td>\n      <td>False</td>\n      <td>False</td>\n    </tr>\n    <tr>\n      <th>868</th>\n      <td>3</td>\n      <td>0</td>\n      <td>25.14062</td>\n      <td>0</td>\n      <td>0</td>\n      <td>9.5000</td>\n      <td>0</td>\n      <td>0</td>\n      <td>1</td>\n      <td>0</td>\n      <td>0</td>\n      <td>1</td>\n      <td>0</td>\n      <td>False</td>\n      <td>False</td>\n    </tr>\n    <tr>\n      <th>869</th>\n      <td>3</td>\n      <td>0</td>\n      <td>4.00000</td>\n      <td>1</td>\n      <td>1</td>\n      <td>11.1333</td>\n      <td>0</td>\n      <td>0</td>\n      <td>1</td>\n      <td>1</td>\n      <td>0</td>\n      <td>0</td>\n      <td>0</td>\n      <td>True</td>\n      <td>False</td>\n    </tr>\n    <tr>\n      <th>870</th>\n      <td>3</td>\n      <td>0</td>\n      <td>26.00000</td>\n      <td>0</td>\n      <td>0</td>\n      <td>7.8958</td>\n      <td>0</td>\n      <td>0</td>\n      <td>1</td>\n      <td>0</td>\n      <td>0</td>\n      <td>1</td>\n      <td>0</td>\n      <td>False</td>\n      <td>False</td>\n    </tr>\n    <tr>\n      <th>871</th>\n      <td>1</td>\n      <td>1</td>\n      <td>47.00000</td>\n      <td>1</td>\n      <td>1</td>\n      <td>52.5542</td>\n      <td>0</td>\n      <td>0</td>\n      <td>1</td>\n      <td>0</td>\n      <td>0</td>\n      <td>0</td>\n      <td>1</td>\n      <td>False</td>\n      <td>False</td>\n    </tr>\n    <tr>\n      <th>872</th>\n      <td>1</td>\n      <td>0</td>\n      <td>33.00000</td>\n      <td>0</td>\n      <td>0</td>\n      <td>5.0000</td>\n      <td>0</td>\n      <td>0</td>\n      <td>1</td>\n      <td>0</td>\n      <td>0</td>\n      <td>1</td>\n      <td>0</td>\n      <td>False</td>\n      <td>False</td>\n    </tr>\n    <tr>\n      <th>873</th>\n      <td>3</td>\n      <td>0</td>\n      <td>47.00000</td>\n      <td>0</td>\n      <td>0</td>\n      <td>9.0000</td>\n      <td>0</td>\n      <td>0</td>\n      <td>1</td>\n      <td>0</td>\n      <td>0</td>\n      <td>1</td>\n      <td>0</td>\n      <td>False</td>\n      <td>False</td>\n    </tr>\n    <tr>\n      <th>874</th>\n      <td>2</td>\n      <td>1</td>\n      <td>28.00000</td>\n      <td>1</td>\n      <td>0</td>\n      <td>24.0000</td>\n      <td>1</td>\n      <td>0</td>\n      <td>0</td>\n      <td>0</td>\n      <td>0</td>\n      <td>0</td>\n      <td>1</td>\n      <td>False</td>\n      <td>False</td>\n    </tr>\n    <tr>\n      <th>875</th>\n      <td>3</td>\n      <td>1</td>\n      <td>15.00000</td>\n      <td>0</td>\n      <td>0</td>\n      <td>7.2250</td>\n      <td>1</td>\n      <td>0</td>\n      <td>0</td>\n      <td>0</td>\n      <td>1</td>\n      <td>0</td>\n      <td>0</td>\n      <td>False</td>\n      <td>False</td>\n    </tr>\n    <tr>\n      <th>876</th>\n      <td>3</td>\n      <td>0</td>\n      <td>20.00000</td>\n      <td>0</td>\n      <td>0</td>\n      <td>9.8458</td>\n      <td>0</td>\n      <td>0</td>\n      <td>1</td>\n      <td>0</td>\n      <td>0</td>\n      <td>1</td>\n      <td>0</td>\n      <td>False</td>\n      <td>False</td>\n    </tr>\n    <tr>\n      <th>877</th>\n      <td>3</td>\n      <td>0</td>\n      <td>19.00000</td>\n      <td>0</td>\n      <td>0</td>\n      <td>7.8958</td>\n      <td>0</td>\n      <td>0</td>\n      <td>1</td>\n      <td>0</td>\n      <td>0</td>\n      <td>1</td>\n      <td>0</td>\n      <td>False</td>\n      <td>False</td>\n    </tr>\n    <tr>\n      <th>878</th>\n      <td>3</td>\n      <td>0</td>\n      <td>25.14062</td>\n      <td>0</td>\n      <td>0</td>\n      <td>7.8958</td>\n      <td>0</td>\n      <td>0</td>\n      <td>1</td>\n      <td>0</td>\n      <td>0</td>\n      <td>1</td>\n      <td>0</td>\n      <td>False</td>\n      <td>False</td>\n    </tr>\n    <tr>\n      <th>879</th>\n      <td>1</td>\n      <td>1</td>\n      <td>56.00000</td>\n      <td>0</td>\n      <td>1</td>\n      <td>83.1583</td>\n      <td>1</td>\n      <td>0</td>\n      <td>0</td>\n      <td>0</td>\n      <td>0</td>\n      <td>0</td>\n      <td>1</td>\n      <td>False</td>\n      <td>False</td>\n    </tr>\n    <tr>\n      <th>880</th>\n      <td>2</td>\n      <td>1</td>\n      <td>25.00000</td>\n      <td>0</td>\n      <td>1</td>\n      <td>26.0000</td>\n      <td>0</td>\n      <td>0</td>\n      <td>1</td>\n      <td>0</td>\n      <td>0</td>\n      <td>0</td>\n      <td>1</td>\n      <td>False</td>\n      <td>False</td>\n    </tr>\n    <tr>\n      <th>881</th>\n      <td>3</td>\n      <td>0</td>\n      <td>33.00000</td>\n      <td>0</td>\n      <td>0</td>\n      <td>7.8958</td>\n      <td>0</td>\n      <td>0</td>\n      <td>1</td>\n      <td>0</td>\n      <td>0</td>\n      <td>1</td>\n      <td>0</td>\n      <td>False</td>\n      <td>False</td>\n    </tr>\n    <tr>\n      <th>882</th>\n      <td>3</td>\n      <td>1</td>\n      <td>22.00000</td>\n      <td>0</td>\n      <td>0</td>\n      <td>10.5167</td>\n      <td>0</td>\n      <td>0</td>\n      <td>1</td>\n      <td>0</td>\n      <td>1</td>\n      <td>0</td>\n      <td>0</td>\n      <td>False</td>\n      <td>False</td>\n    </tr>\n    <tr>\n      <th>883</th>\n      <td>2</td>\n      <td>0</td>\n      <td>28.00000</td>\n      <td>0</td>\n      <td>0</td>\n      <td>10.5000</td>\n      <td>0</td>\n      <td>0</td>\n      <td>1</td>\n      <td>0</td>\n      <td>0</td>\n      <td>1</td>\n      <td>0</td>\n      <td>False</td>\n      <td>False</td>\n    </tr>\n    <tr>\n      <th>884</th>\n      <td>3</td>\n      <td>0</td>\n      <td>25.00000</td>\n      <td>0</td>\n      <td>0</td>\n      <td>7.0500</td>\n      <td>0</td>\n      <td>0</td>\n      <td>1</td>\n      <td>0</td>\n      <td>0</td>\n      <td>1</td>\n      <td>0</td>\n      <td>False</td>\n      <td>False</td>\n    </tr>\n    <tr>\n      <th>885</th>\n      <td>3</td>\n      <td>1</td>\n      <td>39.00000</td>\n      <td>0</td>\n      <td>5</td>\n      <td>29.1250</td>\n      <td>0</td>\n      <td>1</td>\n      <td>0</td>\n      <td>0</td>\n      <td>0</td>\n      <td>0</td>\n      <td>1</td>\n      <td>False</td>\n      <td>False</td>\n    </tr>\n    <tr>\n      <th>886</th>\n      <td>2</td>\n      <td>0</td>\n      <td>27.00000</td>\n      <td>0</td>\n      <td>0</td>\n      <td>13.0000</td>\n      <td>0</td>\n      <td>0</td>\n      <td>1</td>\n      <td>0</td>\n      <td>0</td>\n      <td>1</td>\n      <td>0</td>\n      <td>False</td>\n      <td>False</td>\n    </tr>\n    <tr>\n      <th>887</th>\n      <td>1</td>\n      <td>1</td>\n      <td>19.00000</td>\n      <td>0</td>\n      <td>0</td>\n      <td>30.0000</td>\n      <td>0</td>\n      <td>0</td>\n      <td>1</td>\n      <td>0</td>\n      <td>1</td>\n      <td>0</td>\n      <td>0</td>\n      <td>False</td>\n      <td>False</td>\n    </tr>\n    <tr>\n      <th>888</th>\n      <td>3</td>\n      <td>1</td>\n      <td>25.14062</td>\n      <td>1</td>\n      <td>2</td>\n      <td>23.4500</td>\n      <td>0</td>\n      <td>0</td>\n      <td>1</td>\n      <td>0</td>\n      <td>1</td>\n      <td>0</td>\n      <td>0</td>\n      <td>False</td>\n      <td>False</td>\n    </tr>\n    <tr>\n      <th>889</th>\n      <td>1</td>\n      <td>0</td>\n      <td>26.00000</td>\n      <td>0</td>\n      <td>0</td>\n      <td>30.0000</td>\n      <td>1</td>\n      <td>0</td>\n      <td>0</td>\n      <td>0</td>\n      <td>0</td>\n      <td>1</td>\n      <td>0</td>\n      <td>False</td>\n      <td>False</td>\n    </tr>\n    <tr>\n      <th>890</th>\n      <td>3</td>\n      <td>0</td>\n      <td>32.00000</td>\n      <td>0</td>\n      <td>0</td>\n      <td>7.7500</td>\n      <td>0</td>\n      <td>1</td>\n      <td>0</td>\n      <td>0</td>\n      <td>0</td>\n      <td>1</td>\n      <td>0</td>\n      <td>False</td>\n      <td>False</td>\n    </tr>\n  </tbody>\n</table>\n<p>891 rows × 15 columns</p>\n</div>"
          },
          "metadata": {}
        }
      ]
    },
    {
      "metadata": {
        "trusted": true
      },
      "cell_type": "code",
      "source": "combined_model, combined_gs = build_model()\ncombined_gs.fit(X, Y)\nprediction = combined_gs.predict(test)\npd.DataFrame({'PassengerId':PID, 'Survived': prediction}).set_index('PassengerId').to_csv('Combined_Predictions.csv')",
      "execution_count": 34,
      "outputs": []
    },
    {
      "metadata": {
        "trusted": true
      },
      "cell_type": "code",
      "source": "combined_gs.best_params_",
      "execution_count": 35,
      "outputs": [
        {
          "output_type": "execute_result",
          "execution_count": 35,
          "data": {
            "text/plain": "{'logreg__C': 0.21000000000000002, 'logreg__penalty': 'l1'}"
          },
          "metadata": {}
        }
      ]
    }
  ],
  "metadata": {
    "kernelspec": {
      "name": "python2",
      "display_name": "Python 2",
      "language": "python"
    },
    "language_info": {
      "mimetype": "text/x-python",
      "nbconvert_exporter": "python",
      "name": "python",
      "pygments_lexer": "ipython2",
      "version": "2.7.15",
      "file_extension": ".py",
      "codemirror_mode": {
        "version": 2,
        "name": "ipython"
      }
    }
  },
  "nbformat": 4,
  "nbformat_minor": 2
}