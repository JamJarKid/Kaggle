{
  "cells": [
    {
      "metadata": {
        "trusted": true
      },
      "cell_type": "code",
      "source": "%matplotlib inline\nimport matplotlib.pyplot as plt\nimport seaborn as sns\nimport pandas as pd\nimport numpy as np",
      "execution_count": 4,
      "outputs": []
    },
    {
      "metadata": {
        "trusted": true
      },
      "cell_type": "code",
      "source": "df = pd.read_csv('./train.csv')\ndf.head()",
      "execution_count": 5,
      "outputs": [
        {
          "output_type": "execute_result",
          "execution_count": 5,
          "data": {
            "text/plain": "   PassengerId  Survived  Pclass  \\\n0            1         0       3   \n1            2         1       1   \n2            3         1       3   \n3            4         1       1   \n4            5         0       3   \n\n                                                Name     Sex   Age  SibSp  \\\n0                            Braund, Mr. Owen Harris    male  22.0      1   \n1  Cumings, Mrs. John Bradley (Florence Briggs Th...  female  38.0      1   \n2                             Heikkinen, Miss. Laina  female  26.0      0   \n3       Futrelle, Mrs. Jacques Heath (Lily May Peel)  female  35.0      1   \n4                           Allen, Mr. William Henry    male  35.0      0   \n\n   Parch            Ticket     Fare Cabin Embarked  \n0      0         A/5 21171   7.2500   NaN        S  \n1      0          PC 17599  71.2833   C85        C  \n2      0  STON/O2. 3101282   7.9250   NaN        S  \n3      0            113803  53.1000  C123        S  \n4      0            373450   8.0500   NaN        S  ",
            "text/html": "<div>\n<style scoped>\n    .dataframe tbody tr th:only-of-type {\n        vertical-align: middle;\n    }\n\n    .dataframe tbody tr th {\n        vertical-align: top;\n    }\n\n    .dataframe thead th {\n        text-align: right;\n    }\n</style>\n<table border=\"1\" class=\"dataframe\">\n  <thead>\n    <tr style=\"text-align: right;\">\n      <th></th>\n      <th>PassengerId</th>\n      <th>Survived</th>\n      <th>Pclass</th>\n      <th>Name</th>\n      <th>Sex</th>\n      <th>Age</th>\n      <th>SibSp</th>\n      <th>Parch</th>\n      <th>Ticket</th>\n      <th>Fare</th>\n      <th>Cabin</th>\n      <th>Embarked</th>\n    </tr>\n  </thead>\n  <tbody>\n    <tr>\n      <th>0</th>\n      <td>1</td>\n      <td>0</td>\n      <td>3</td>\n      <td>Braund, Mr. Owen Harris</td>\n      <td>male</td>\n      <td>22.0</td>\n      <td>1</td>\n      <td>0</td>\n      <td>A/5 21171</td>\n      <td>7.2500</td>\n      <td>NaN</td>\n      <td>S</td>\n    </tr>\n    <tr>\n      <th>1</th>\n      <td>2</td>\n      <td>1</td>\n      <td>1</td>\n      <td>Cumings, Mrs. John Bradley (Florence Briggs Th...</td>\n      <td>female</td>\n      <td>38.0</td>\n      <td>1</td>\n      <td>0</td>\n      <td>PC 17599</td>\n      <td>71.2833</td>\n      <td>C85</td>\n      <td>C</td>\n    </tr>\n    <tr>\n      <th>2</th>\n      <td>3</td>\n      <td>1</td>\n      <td>3</td>\n      <td>Heikkinen, Miss. Laina</td>\n      <td>female</td>\n      <td>26.0</td>\n      <td>0</td>\n      <td>0</td>\n      <td>STON/O2. 3101282</td>\n      <td>7.9250</td>\n      <td>NaN</td>\n      <td>S</td>\n    </tr>\n    <tr>\n      <th>3</th>\n      <td>4</td>\n      <td>1</td>\n      <td>1</td>\n      <td>Futrelle, Mrs. Jacques Heath (Lily May Peel)</td>\n      <td>female</td>\n      <td>35.0</td>\n      <td>1</td>\n      <td>0</td>\n      <td>113803</td>\n      <td>53.1000</td>\n      <td>C123</td>\n      <td>S</td>\n    </tr>\n    <tr>\n      <th>4</th>\n      <td>5</td>\n      <td>0</td>\n      <td>3</td>\n      <td>Allen, Mr. William Henry</td>\n      <td>male</td>\n      <td>35.0</td>\n      <td>0</td>\n      <td>0</td>\n      <td>373450</td>\n      <td>8.0500</td>\n      <td>NaN</td>\n      <td>S</td>\n    </tr>\n  </tbody>\n</table>\n</div>"
          },
          "metadata": {}
        }
      ]
    },
    {
      "metadata": {
        "trusted": true
      },
      "cell_type": "code",
      "source": "Survived = df['Survived'].sum()",
      "execution_count": 3,
      "outputs": []
    },
    {
      "metadata": {
        "trusted": true
      },
      "cell_type": "code",
      "source": "Died = (1-df['Survived'].sum())",
      "execution_count": 4,
      "outputs": []
    },
    {
      "metadata": {
        "trusted": true
      },
      "cell_type": "code",
      "source": "df.shape",
      "execution_count": 5,
      "outputs": [
        {
          "output_type": "execute_result",
          "execution_count": 5,
          "data": {
            "text/plain": "(891, 12)"
          },
          "metadata": {}
        }
      ]
    },
    {
      "metadata": {
        "trusted": true
      },
      "cell_type": "code",
      "source": "df.groupby('Survived')['PassengerId'].count()",
      "execution_count": 6,
      "outputs": [
        {
          "output_type": "execute_result",
          "execution_count": 6,
          "data": {
            "text/plain": "Survived\n0    549\n1    342\nName: PassengerId, dtype: int64"
          },
          "metadata": {}
        }
      ]
    },
    {
      "metadata": {
        "scrolled": true,
        "trusted": true
      },
      "cell_type": "code",
      "source": "df['Survived'].value_counts()",
      "execution_count": 7,
      "outputs": [
        {
          "output_type": "execute_result",
          "execution_count": 7,
          "data": {
            "text/plain": "0    549\n1    342\nName: Survived, dtype: int64"
          },
          "metadata": {}
        }
      ]
    },
    {
      "metadata": {
        "trusted": true
      },
      "cell_type": "code",
      "source": "df['Sex'].value_counts()",
      "execution_count": 8,
      "outputs": [
        {
          "output_type": "execute_result",
          "execution_count": 8,
          "data": {
            "text/plain": "male      577\nfemale    314\nName: Sex, dtype: int64"
          },
          "metadata": {}
        }
      ]
    },
    {
      "metadata": {
        "trusted": true
      },
      "cell_type": "code",
      "source": "df['Pclass'].value_counts()",
      "execution_count": 9,
      "outputs": [
        {
          "output_type": "execute_result",
          "execution_count": 9,
          "data": {
            "text/plain": "3    491\n1    216\n2    184\nName: Pclass, dtype: int64"
          },
          "metadata": {}
        }
      ]
    },
    {
      "metadata": {
        "trusted": true
      },
      "cell_type": "code",
      "source": "df['party_size'] = df['SibSp'] + df['Parch']\ndf['party_size'].value_counts()",
      "execution_count": 10,
      "outputs": [
        {
          "output_type": "execute_result",
          "execution_count": 10,
          "data": {
            "text/plain": "0     537\n1     161\n2     102\n3      29\n5      22\n4      15\n6      12\n10      7\n7       6\nName: party_size, dtype: int64"
          },
          "metadata": {}
        }
      ]
    },
    {
      "metadata": {
        "trusted": true
      },
      "cell_type": "code",
      "source": "df['party_size'].hist()\nplt.xlabel('Party size')\nplt.ylabel('Count of passengers')\n\nx = np.arange(df['party_size'].max())\nplt.plot(x, 500*np.exp(-.75*x), 'k--')",
      "execution_count": 11,
      "outputs": [
        {
          "output_type": "execute_result",
          "execution_count": 11,
          "data": {
            "text/plain": "[<matplotlib.lines.Line2D at 0x7fe65dcbc850>]"
          },
          "metadata": {}
        },
        {
          "output_type": "display_data",
          "data": {
            "image/png": "[encoded data removed]",
            "text/plain": "<Figure size 432x288 with 1 Axes>"
          },
          "metadata": {
            "needs_background": "light"
          }
        }
      ]
    },
    {
      "metadata": {
        "trusted": true
      },
      "cell_type": "code",
      "source": "np.log(df['party_size']+1).hist()",
      "execution_count": 12,
      "outputs": [
        {
          "output_type": "execute_result",
          "execution_count": 12,
          "data": {
            "text/plain": "<matplotlib.axes._subplots.AxesSubplot at 0x7fe65ddf7050>"
          },
          "metadata": {}
        },
        {
          "output_type": "display_data",
          "data": {
            "image/png": "[encoded data removed]",
            "text/plain": "<Figure size 432x288 with 1 Axes>"
          },
          "metadata": {
            "needs_background": "light"
          }
        }
      ]
    },
    {
      "metadata": {
        "trusted": true
      },
      "cell_type": "code",
      "source": "df['Age'].hist()",
      "execution_count": 13,
      "outputs": [
        {
          "output_type": "execute_result",
          "execution_count": 13,
          "data": {
            "text/plain": "<matplotlib.axes._subplots.AxesSubplot at 0x7fe65d991a10>"
          },
          "metadata": {}
        },
        {
          "output_type": "display_data",
          "data": {
            "image/png": "[encoded data removed]",
            "text/plain": "<Figure size 432x288 with 1 Axes>"
          },
          "metadata": {
            "needs_background": "light"
          }
        }
      ]
    },
    {
      "metadata": {
        "scrolled": true,
        "trusted": true
      },
      "cell_type": "code",
      "source": "df['Age'].describe()",
      "execution_count": 14,
      "outputs": [
        {
          "output_type": "execute_result",
          "execution_count": 14,
          "data": {
            "text/plain": "count    714.000000\nmean      29.699118\nstd       14.526497\nmin        0.420000\n25%       20.125000\n50%       28.000000\n75%       38.000000\nmax       80.000000\nName: Age, dtype: float64"
          },
          "metadata": {}
        }
      ]
    },
    {
      "metadata": {
        "trusted": true
      },
      "cell_type": "code",
      "source": "pd.qcut(df['Age'], [.1,.2,.3,.4,.5,.6,.7,.8,.9,1]).value_counts().sort_index()",
      "execution_count": 15,
      "outputs": [
        {
          "output_type": "execute_result",
          "execution_count": 15,
          "data": {
            "text/plain": "(13.999, 19.0]    93\n(19.0, 22.0]      67\n(22.0, 25.0]      70\n(25.0, 28.0]      61\n(28.0, 31.8]      66\n(31.8, 36.0]      91\n(36.0, 41.0]      53\n(41.0, 50.0]      78\n(50.0, 80.0]      64\nName: Age, dtype: int64"
          },
          "metadata": {}
        }
      ]
    },
    {
      "metadata": {
        "scrolled": true,
        "trusted": true
      },
      "cell_type": "code",
      "source": "df.groupby('Survived')['Age'].mean()",
      "execution_count": 16,
      "outputs": [
        {
          "output_type": "execute_result",
          "execution_count": 16,
          "data": {
            "text/plain": "Survived\n0    30.626179\n1    28.343690\nName: Age, dtype: float64"
          },
          "metadata": {}
        }
      ]
    },
    {
      "metadata": {
        "scrolled": true,
        "trusted": true
      },
      "cell_type": "code",
      "source": "df.groupby(pd.cut(df['Age'], [0,5,18,25, 35,45,55,65,85]))['Survived'].mean()",
      "execution_count": 17,
      "outputs": [
        {
          "output_type": "execute_result",
          "execution_count": 17,
          "data": {
            "text/plain": "Age\n(0, 5]      0.704545\n(5, 18]     0.410526\n(18, 25]    0.333333\n(25, 35]    0.423469\n(35, 45]    0.394737\n(45, 55]    0.412698\n(55, 65]    0.343750\n(65, 85]    0.125000\nName: Survived, dtype: float64"
          },
          "metadata": {}
        }
      ]
    },
    {
      "metadata": {
        "trusted": true
      },
      "cell_type": "code",
      "source": "",
      "execution_count": null,
      "outputs": []
    },
    {
      "metadata": {
        "scrolled": true,
        "trusted": true
      },
      "cell_type": "code",
      "source": "def extract_title(name):\n    return name.split(', ')[1].split('. ')[0]\n#.str.split(', ').apply(lambda s:s[1]).str.split('. ').apply(lambda s:s[0])\n\ntitled_women = df[df['Name'].str.contains('Miss|Ms|Mrs')]\nwomens_titles = titled_women['Name'].apply(extract_title)\n",
      "execution_count": 36,
      "outputs": []
    },
    {
      "metadata": {
        "trusted": true
      },
      "cell_type": "code",
      "source": "titled_women.groupby(womens_titles)['Survived'].agg(['mean', 'count'])",
      "execution_count": 41,
      "outputs": [
        {
          "output_type": "execute_result",
          "execution_count": 41,
          "data": {
            "text/plain": "          mean  count\nName                 \nLady  1.000000      1\nMiss  0.697802    182\nMlle  1.000000      1\nMrs   0.792000    125\nMs    1.000000      1",
            "text/html": "<div>\n<style scoped>\n    .dataframe tbody tr th:only-of-type {\n        vertical-align: middle;\n    }\n\n    .dataframe tbody tr th {\n        vertical-align: top;\n    }\n\n    .dataframe thead th {\n        text-align: right;\n    }\n</style>\n<table border=\"1\" class=\"dataframe\">\n  <thead>\n    <tr style=\"text-align: right;\">\n      <th></th>\n      <th>mean</th>\n      <th>count</th>\n    </tr>\n    <tr>\n      <th>Name</th>\n      <th></th>\n      <th></th>\n    </tr>\n  </thead>\n  <tbody>\n    <tr>\n      <th>Lady</th>\n      <td>1.000000</td>\n      <td>1</td>\n    </tr>\n    <tr>\n      <th>Miss</th>\n      <td>0.697802</td>\n      <td>182</td>\n    </tr>\n    <tr>\n      <th>Mlle</th>\n      <td>1.000000</td>\n      <td>1</td>\n    </tr>\n    <tr>\n      <th>Mrs</th>\n      <td>0.792000</td>\n      <td>125</td>\n    </tr>\n    <tr>\n      <th>Ms</th>\n      <td>1.000000</td>\n      <td>1</td>\n    </tr>\n  </tbody>\n</table>\n</div>"
          },
          "metadata": {}
        }
      ]
    },
    {
      "metadata": {
        "scrolled": false,
        "trusted": true
      },
      "cell_type": "code",
      "source": "titled_women[~womens_titles.isin(['Lady', \n                                  'Mlle', \n                                  'Ms'])].groupby([womens_titles, titled_women['Parch']>0])['Survived'].agg(['mean', 'count'])",
      "execution_count": 42,
      "outputs": [
        {
          "output_type": "execute_result",
          "execution_count": 42,
          "data": {
            "text/plain": "                mean  count\nName Parch                 \nMiss False  0.737288    118\n     True   0.625000     64\nMrs  False  0.855072     69\n     True   0.714286     56",
            "text/html": "<div>\n<style scoped>\n    .dataframe tbody tr th:only-of-type {\n        vertical-align: middle;\n    }\n\n    .dataframe tbody tr th {\n        vertical-align: top;\n    }\n\n    .dataframe thead th {\n        text-align: right;\n    }\n</style>\n<table border=\"1\" class=\"dataframe\">\n  <thead>\n    <tr style=\"text-align: right;\">\n      <th></th>\n      <th></th>\n      <th>mean</th>\n      <th>count</th>\n    </tr>\n    <tr>\n      <th>Name</th>\n      <th>Parch</th>\n      <th></th>\n      <th></th>\n    </tr>\n  </thead>\n  <tbody>\n    <tr>\n      <th rowspan=\"2\" valign=\"top\">Miss</th>\n      <th>False</th>\n      <td>0.737288</td>\n      <td>118</td>\n    </tr>\n    <tr>\n      <th>True</th>\n      <td>0.625000</td>\n      <td>64</td>\n    </tr>\n    <tr>\n      <th rowspan=\"2\" valign=\"top\">Mrs</th>\n      <th>False</th>\n      <td>0.855072</td>\n      <td>69</td>\n    </tr>\n    <tr>\n      <th>True</th>\n      <td>0.714286</td>\n      <td>56</td>\n    </tr>\n  </tbody>\n</table>\n</div>"
          },
          "metadata": {}
        }
      ]
    },
    {
      "metadata": {
        "trusted": true
      },
      "cell_type": "code",
      "source": "titled_women[~womens_titles.isin(['Lady', \n                                  'Mlle', \n                                  'Ms'])].groupby([womens_titles, titled_women['SibSp']>0])['Survived'].agg(['mean', 'count'])",
      "execution_count": 43,
      "outputs": [
        {
          "output_type": "execute_result",
          "execution_count": 43,
          "data": {
            "text/plain": "                mean  count\nName SibSp                 \nMiss False  0.764228    123\n     True   0.559322     59\nMrs  False  0.822222     45\n     True   0.775000     80",
            "text/html": "<div>\n<style scoped>\n    .dataframe tbody tr th:only-of-type {\n        vertical-align: middle;\n    }\n\n    .dataframe tbody tr th {\n        vertical-align: top;\n    }\n\n    .dataframe thead th {\n        text-align: right;\n    }\n</style>\n<table border=\"1\" class=\"dataframe\">\n  <thead>\n    <tr style=\"text-align: right;\">\n      <th></th>\n      <th></th>\n      <th>mean</th>\n      <th>count</th>\n    </tr>\n    <tr>\n      <th>Name</th>\n      <th>SibSp</th>\n      <th></th>\n      <th></th>\n    </tr>\n  </thead>\n  <tbody>\n    <tr>\n      <th rowspan=\"2\" valign=\"top\">Miss</th>\n      <th>False</th>\n      <td>0.764228</td>\n      <td>123</td>\n    </tr>\n    <tr>\n      <th>True</th>\n      <td>0.559322</td>\n      <td>59</td>\n    </tr>\n    <tr>\n      <th rowspan=\"2\" valign=\"top\">Mrs</th>\n      <th>False</th>\n      <td>0.822222</td>\n      <td>45</td>\n    </tr>\n    <tr>\n      <th>True</th>\n      <td>0.775000</td>\n      <td>80</td>\n    </tr>\n  </tbody>\n</table>\n</div>"
          },
          "metadata": {}
        }
      ]
    },
    {
      "metadata": {
        "trusted": true
      },
      "cell_type": "code",
      "source": "titled_women[~womens_titles.isin(['Lady', \n                                  'mlle', \n                                  'Ms'])].groupby([womens_titles, titled_women['Pclass']])['Survived'].agg(['mean', 'count'])",
      "execution_count": 22,
      "outputs": [
        {
          "output_type": "execute_result",
          "execution_count": 22,
          "data": {
            "text/plain": "                 mean  count\nName Pclass                 \nMiss 1       0.956522     46\n     2       0.941176     34\n     3       0.500000    102\nMlle 1       1.000000      1\nMrs  1       0.976190     42\n     2       0.902439     41\n     3       0.500000     42",
            "text/html": "<div>\n<style scoped>\n    .dataframe tbody tr th:only-of-type {\n        vertical-align: middle;\n    }\n\n    .dataframe tbody tr th {\n        vertical-align: top;\n    }\n\n    .dataframe thead th {\n        text-align: right;\n    }\n</style>\n<table border=\"1\" class=\"dataframe\">\n  <thead>\n    <tr style=\"text-align: right;\">\n      <th></th>\n      <th></th>\n      <th>mean</th>\n      <th>count</th>\n    </tr>\n    <tr>\n      <th>Name</th>\n      <th>Pclass</th>\n      <th></th>\n      <th></th>\n    </tr>\n  </thead>\n  <tbody>\n    <tr>\n      <th rowspan=\"3\" valign=\"top\">Miss</th>\n      <th>1</th>\n      <td>0.956522</td>\n      <td>46</td>\n    </tr>\n    <tr>\n      <th>2</th>\n      <td>0.941176</td>\n      <td>34</td>\n    </tr>\n    <tr>\n      <th>3</th>\n      <td>0.500000</td>\n      <td>102</td>\n    </tr>\n    <tr>\n      <th>Mlle</th>\n      <th>1</th>\n      <td>1.000000</td>\n      <td>1</td>\n    </tr>\n    <tr>\n      <th rowspan=\"3\" valign=\"top\">Mrs</th>\n      <th>1</th>\n      <td>0.976190</td>\n      <td>42</td>\n    </tr>\n    <tr>\n      <th>2</th>\n      <td>0.902439</td>\n      <td>41</td>\n    </tr>\n    <tr>\n      <th>3</th>\n      <td>0.500000</td>\n      <td>42</td>\n    </tr>\n  </tbody>\n</table>\n</div>"
          },
          "metadata": {}
        }
      ]
    },
    {
      "metadata": {
        "trusted": true
      },
      "cell_type": "code",
      "source": "df['Fare'].hist(bins=30)",
      "execution_count": 23,
      "outputs": [
        {
          "output_type": "execute_result",
          "execution_count": 23,
          "data": {
            "text/plain": "<matplotlib.axes._subplots.AxesSubplot at 0x7fe65d8da910>"
          },
          "metadata": {}
        },
        {
          "output_type": "display_data",
          "data": {
            "image/png": "[encoded data removed]",
            "text/plain": "<Figure size 432x288 with 1 Axes>"
          },
          "metadata": {
            "needs_background": "light"
          }
        }
      ]
    },
    {
      "metadata": {
        "trusted": true
      },
      "cell_type": "code",
      "source": "df['Fare'].describe()",
      "execution_count": 24,
      "outputs": [
        {
          "output_type": "execute_result",
          "execution_count": 24,
          "data": {
            "text/plain": "count    891.000000\nmean      32.204208\nstd       49.693429\nmin        0.000000\n25%        7.910400\n50%       14.454200\n75%       31.000000\nmax      512.329200\nName: Fare, dtype: float64"
          },
          "metadata": {}
        }
      ]
    },
    {
      "metadata": {
        "trusted": true
      },
      "cell_type": "code",
      "source": "",
      "execution_count": null,
      "outputs": []
    },
    {
      "metadata": {
        "scrolled": true,
        "trusted": true
      },
      "cell_type": "code",
      "source": "df['age_bin'] = pd.cut(df['Fare'], [0, 5, 18,25,35,45,55,85])\n\ndf['fare_class'] = df.apply(lambda row:row['Fare']>df[df['age_bin'] == row['age_bin']]['Fare'].median(), axis = 1)",
      "execution_count": 25,
      "outputs": []
    },
    {
      "metadata": {
        "trusted": true
      },
      "cell_type": "code",
      "source": "df.groupby('age_bin')['Fare'].median()",
      "execution_count": 26,
      "outputs": [
        {
          "output_type": "execute_result",
          "execution_count": 26,
          "data": {
            "text/plain": "age_bin\n(0, 5]       4.50625\n(5, 18]      8.05000\n(18, 25]    21.00000\n(25, 35]    27.72080\n(35, 45]    39.40000\n(45, 55]    52.00000\n(55, 85]    71.28330\nName: Fare, dtype: float64"
          },
          "metadata": {}
        }
      ]
    },
    {
      "metadata": {
        "trusted": true
      },
      "cell_type": "code",
      "source": "df.head()",
      "execution_count": 27,
      "outputs": [
        {
          "output_type": "execute_result",
          "execution_count": 27,
          "data": {
            "text/plain": "   PassengerId  Survived  Pclass  \\\n0            1         0       3   \n1            2         1       1   \n2            3         1       3   \n3            4         1       1   \n4            5         0       3   \n\n                                                Name     Sex   Age  SibSp  \\\n0                            Braund, Mr. Owen Harris    male  22.0      1   \n1  Cumings, Mrs. John Bradley (Florence Briggs Th...  female  38.0      1   \n2                             Heikkinen, Miss. Laina  female  26.0      0   \n3       Futrelle, Mrs. Jacques Heath (Lily May Peel)  female  35.0      1   \n4                           Allen, Mr. William Henry    male  35.0      0   \n\n   Parch            Ticket     Fare Cabin Embarked  party_size   age_bin  \\\n0      0         A/5 21171   7.2500   NaN        S           1   (5, 18]   \n1      0          PC 17599  71.2833   C85        C           1  (55, 85]   \n2      0  STON/O2. 3101282   7.9250   NaN        S           0   (5, 18]   \n3      0            113803  53.1000  C123        S           1  (45, 55]   \n4      0            373450   8.0500   NaN        S           0   (5, 18]   \n\n   fare_class  \n0       False  \n1       False  \n2       False  \n3        True  \n4       False  ",
            "text/html": "<div>\n<style scoped>\n    .dataframe tbody tr th:only-of-type {\n        vertical-align: middle;\n    }\n\n    .dataframe tbody tr th {\n        vertical-align: top;\n    }\n\n    .dataframe thead th {\n        text-align: right;\n    }\n</style>\n<table border=\"1\" class=\"dataframe\">\n  <thead>\n    <tr style=\"text-align: right;\">\n      <th></th>\n      <th>PassengerId</th>\n      <th>Survived</th>\n      <th>Pclass</th>\n      <th>Name</th>\n      <th>Sex</th>\n      <th>Age</th>\n      <th>SibSp</th>\n      <th>Parch</th>\n      <th>Ticket</th>\n      <th>Fare</th>\n      <th>Cabin</th>\n      <th>Embarked</th>\n      <th>party_size</th>\n      <th>age_bin</th>\n      <th>fare_class</th>\n    </tr>\n  </thead>\n  <tbody>\n    <tr>\n      <th>0</th>\n      <td>1</td>\n      <td>0</td>\n      <td>3</td>\n      <td>Braund, Mr. Owen Harris</td>\n      <td>male</td>\n      <td>22.0</td>\n      <td>1</td>\n      <td>0</td>\n      <td>A/5 21171</td>\n      <td>7.2500</td>\n      <td>NaN</td>\n      <td>S</td>\n      <td>1</td>\n      <td>(5, 18]</td>\n      <td>False</td>\n    </tr>\n    <tr>\n      <th>1</th>\n      <td>2</td>\n      <td>1</td>\n      <td>1</td>\n      <td>Cumings, Mrs. John Bradley (Florence Briggs Th...</td>\n      <td>female</td>\n      <td>38.0</td>\n      <td>1</td>\n      <td>0</td>\n      <td>PC 17599</td>\n      <td>71.2833</td>\n      <td>C85</td>\n      <td>C</td>\n      <td>1</td>\n      <td>(55, 85]</td>\n      <td>False</td>\n    </tr>\n    <tr>\n      <th>2</th>\n      <td>3</td>\n      <td>1</td>\n      <td>3</td>\n      <td>Heikkinen, Miss. Laina</td>\n      <td>female</td>\n      <td>26.0</td>\n      <td>0</td>\n      <td>0</td>\n      <td>STON/O2. 3101282</td>\n      <td>7.9250</td>\n      <td>NaN</td>\n      <td>S</td>\n      <td>0</td>\n      <td>(5, 18]</td>\n      <td>False</td>\n    </tr>\n    <tr>\n      <th>3</th>\n      <td>4</td>\n      <td>1</td>\n      <td>1</td>\n      <td>Futrelle, Mrs. Jacques Heath (Lily May Peel)</td>\n      <td>female</td>\n      <td>35.0</td>\n      <td>1</td>\n      <td>0</td>\n      <td>113803</td>\n      <td>53.1000</td>\n      <td>C123</td>\n      <td>S</td>\n      <td>1</td>\n      <td>(45, 55]</td>\n      <td>True</td>\n    </tr>\n    <tr>\n      <th>4</th>\n      <td>5</td>\n      <td>0</td>\n      <td>3</td>\n      <td>Allen, Mr. William Henry</td>\n      <td>male</td>\n      <td>35.0</td>\n      <td>0</td>\n      <td>0</td>\n      <td>373450</td>\n      <td>8.0500</td>\n      <td>NaN</td>\n      <td>S</td>\n      <td>0</td>\n      <td>(5, 18]</td>\n      <td>False</td>\n    </tr>\n  </tbody>\n</table>\n</div>"
          },
          "metadata": {}
        }
      ]
    },
    {
      "metadata": {
        "trusted": true
      },
      "cell_type": "code",
      "source": "df.set_index(pd.cut(df['Age'], [0,5 ,18,25,35,45,55,85]))",
      "execution_count": 28,
      "outputs": [
        {
          "output_type": "execute_result",
          "execution_count": 28,
          "data": {
            "text/plain": "          PassengerId  Survived  Pclass  \\\nAge                                       \n(18, 25]            1         0       3   \n(35, 45]            2         1       1   \n(25, 35]            3         1       3   \n(25, 35]            4         1       1   \n(25, 35]            5         0       3   \nNaN                 6         0       3   \n(45, 55]            7         0       1   \n(0, 5]              8         0       3   \n(25, 35]            9         1       3   \n(5, 18]            10         1       2   \n(0, 5]             11         1       3   \n(55, 85]           12         1       1   \n(18, 25]           13         0       3   \n(35, 45]           14         0       3   \n(5, 18]            15         0       3   \n(45, 55]           16         1       2   \n(0, 5]             17         0       3   \nNaN                18         1       2   \n(25, 35]           19         0       3   \nNaN                20         1       3   \n(25, 35]           21         0       2   \n(25, 35]           22         1       2   \n(5, 18]            23         1       3   \n(25, 35]           24         1       1   \n(5, 18]            25         0       3   \n(35, 45]           26         1       3   \nNaN                27         0       3   \n(18, 25]           28         0       1   \nNaN                29         1       3   \nNaN                30         0       3   \n...               ...       ...     ...   \n(18, 25]          862         0       2   \n(45, 55]          863         1       1   \nNaN               864         0       3   \n(18, 25]          865         0       2   \n(35, 45]          866         1       2   \n(25, 35]          867         1       2   \n(25, 35]          868         0       1   \nNaN               869         0       3   \n(0, 5]            870         1       3   \n(25, 35]          871         0       3   \n(45, 55]          872         1       1   \n(25, 35]          873         0       1   \n(45, 55]          874         0       3   \n(25, 35]          875         1       2   \n(5, 18]           876         1       3   \n(18, 25]          877         0       3   \n(18, 25]          878         0       3   \nNaN               879         0       3   \n(55, 85]          880         1       1   \n(18, 25]          881         1       2   \n(25, 35]          882         0       3   \n(18, 25]          883         0       3   \n(25, 35]          884         0       2   \n(18, 25]          885         0       3   \n(35, 45]          886         0       3   \n(25, 35]          887         0       2   \n(18, 25]          888         1       1   \nNaN               889         0       3   \n(25, 35]          890         1       1   \n(25, 35]          891         0       3   \n\n                                                       Name     Sex   Age  \\\nAge                                                                         \n(18, 25]                            Braund, Mr. Owen Harris    male  22.0   \n(35, 45]  Cumings, Mrs. John Bradley (Florence Briggs Th...  female  38.0   \n(25, 35]                             Heikkinen, Miss. Laina  female  26.0   \n(25, 35]       Futrelle, Mrs. Jacques Heath (Lily May Peel)  female  35.0   \n(25, 35]                           Allen, Mr. William Henry    male  35.0   \nNaN                                        Moran, Mr. James    male   NaN   \n(45, 55]                            McCarthy, Mr. Timothy J    male  54.0   \n(0, 5]                       Palsson, Master. Gosta Leonard    male   2.0   \n(25, 35]  Johnson, Mrs. Oscar W (Elisabeth Vilhelmina Berg)  female  27.0   \n(5, 18]                 Nasser, Mrs. Nicholas (Adele Achem)  female  14.0   \n(0, 5]                      Sandstrom, Miss. Marguerite Rut  female   4.0   \n(55, 85]                           Bonnell, Miss. Elizabeth  female  58.0   \n(18, 25]                     Saundercock, Mr. William Henry    male  20.0   \n(35, 45]                        Andersson, Mr. Anders Johan    male  39.0   \n(5, 18]                Vestrom, Miss. Hulda Amanda Adolfina  female  14.0   \n(45, 55]                   Hewlett, Mrs. (Mary D Kingcome)   female  55.0   \n(0, 5]                                 Rice, Master. Eugene    male   2.0   \nNaN                            Williams, Mr. Charles Eugene    male   NaN   \n(25, 35]  Vander Planke, Mrs. Julius (Emelia Maria Vande...  female  31.0   \nNaN                                 Masselmani, Mrs. Fatima  female   NaN   \n(25, 35]                               Fynney, Mr. Joseph J    male  35.0   \n(25, 35]                              Beesley, Mr. Lawrence    male  34.0   \n(5, 18]                         McGowan, Miss. Anna \"Annie\"  female  15.0   \n(25, 35]                       Sloper, Mr. William Thompson    male  28.0   \n(5, 18]                       Palsson, Miss. Torborg Danira  female   8.0   \n(35, 45]  Asplund, Mrs. Carl Oscar (Selma Augusta Emilia...  female  38.0   \nNaN                                 Emir, Mr. Farred Chehab    male   NaN   \n(18, 25]                     Fortune, Mr. Charles Alexander    male  19.0   \nNaN                           O'Dwyer, Miss. Ellen \"Nellie\"  female   NaN   \nNaN                                     Todoroff, Mr. Lalio    male   NaN   \n...                                                     ...     ...   ...   \n(18, 25]                        Giles, Mr. Frederick Edward    male  21.0   \n(45, 55]  Swift, Mrs. Frederick Joel (Margaret Welles Ba...  female  48.0   \nNaN                       Sage, Miss. Dorothy Edith \"Dolly\"  female   NaN   \n(18, 25]                             Gill, Mr. John William    male  24.0   \n(35, 45]                           Bystrom, Mrs. (Karolina)  female  42.0   \n(25, 35]                       Duran y More, Miss. Asuncion  female  27.0   \n(25, 35]               Roebling, Mr. Washington Augustus II    male  31.0   \nNaN                             van Melkebeke, Mr. Philemon    male   NaN   \n(0, 5]                      Johnson, Master. Harold Theodor    male   4.0   \n(25, 35]                                  Balkic, Mr. Cerin    male  26.0   \n(45, 55]   Beckwith, Mrs. Richard Leonard (Sallie Monypeny)  female  47.0   \n(25, 35]                           Carlsson, Mr. Frans Olof    male  33.0   \n(45, 55]                        Vander Cruyssen, Mr. Victor    male  47.0   \n(25, 35]              Abelson, Mrs. Samuel (Hannah Wizosky)  female  28.0   \n(5, 18]                    Najib, Miss. Adele Kiamie \"Jane\"  female  15.0   \n(18, 25]                      Gustafsson, Mr. Alfred Ossian    male  20.0   \n(18, 25]                               Petroff, Mr. Nedelio    male  19.0   \nNaN                                      Laleff, Mr. Kristo    male   NaN   \n(55, 85]      Potter, Mrs. Thomas Jr (Lily Alexenia Wilson)  female  56.0   \n(18, 25]       Shelley, Mrs. William (Imanita Parrish Hall)  female  25.0   \n(25, 35]                                 Markun, Mr. Johann    male  33.0   \n(18, 25]                       Dahlberg, Miss. Gerda Ulrika  female  22.0   \n(25, 35]                      Banfield, Mr. Frederick James    male  28.0   \n(18, 25]                             Sutehall, Mr. Henry Jr    male  25.0   \n(35, 45]               Rice, Mrs. William (Margaret Norton)  female  39.0   \n(25, 35]                              Montvila, Rev. Juozas    male  27.0   \n(18, 25]                       Graham, Miss. Margaret Edith  female  19.0   \nNaN                Johnston, Miss. Catherine Helen \"Carrie\"  female   NaN   \n(25, 35]                              Behr, Mr. Karl Howell    male  26.0   \n(25, 35]                                Dooley, Mr. Patrick    male  32.0   \n\n          SibSp  Parch            Ticket      Fare        Cabin Embarked  \\\nAge                                                                        \n(18, 25]      1      0         A/5 21171    7.2500          NaN        S   \n(35, 45]      1      0          PC 17599   71.2833          C85        C   \n(25, 35]      0      0  STON/O2. 3101282    7.9250          NaN        S   \n(25, 35]      1      0            113803   53.1000         C123        S   \n(25, 35]      0      0            373450    8.0500          NaN        S   \nNaN           0      0            330877    8.4583          NaN        Q   \n(45, 55]      0      0             17463   51.8625          E46        S   \n(0, 5]        3      1            349909   21.0750          NaN        S   \n(25, 35]      0      2            347742   11.1333          NaN        S   \n(5, 18]       1      0            237736   30.0708          NaN        C   \n(0, 5]        1      1           PP 9549   16.7000           G6        S   \n(55, 85]      0      0            113783   26.5500         C103        S   \n(18, 25]      0      0         A/5. 2151    8.0500          NaN        S   \n(35, 45]      1      5            347082   31.2750          NaN        S   \n(5, 18]       0      0            350406    7.8542          NaN        S   \n(45, 55]      0      0            248706   16.0000          NaN        S   \n(0, 5]        4      1            382652   29.1250          NaN        Q   \nNaN           0      0            244373   13.0000          NaN        S   \n(25, 35]      1      0            345763   18.0000          NaN        S   \nNaN           0      0              2649    7.2250          NaN        C   \n(25, 35]      0      0            239865   26.0000          NaN        S   \n(25, 35]      0      0            248698   13.0000          D56        S   \n(5, 18]       0      0            330923    8.0292          NaN        Q   \n(25, 35]      0      0            113788   35.5000           A6        S   \n(5, 18]       3      1            349909   21.0750          NaN        S   \n(35, 45]      1      5            347077   31.3875          NaN        S   \nNaN           0      0              2631    7.2250          NaN        C   \n(18, 25]      3      2             19950  263.0000  C23 C25 C27        S   \nNaN           0      0            330959    7.8792          NaN        Q   \nNaN           0      0            349216    7.8958          NaN        S   \n...         ...    ...               ...       ...          ...      ...   \n(18, 25]      1      0             28134   11.5000          NaN        S   \n(45, 55]      0      0             17466   25.9292          D17        S   \nNaN           8      2          CA. 2343   69.5500          NaN        S   \n(18, 25]      0      0            233866   13.0000          NaN        S   \n(35, 45]      0      0            236852   13.0000          NaN        S   \n(25, 35]      1      0     SC/PARIS 2149   13.8583          NaN        C   \n(25, 35]      0      0          PC 17590   50.4958          A24        S   \nNaN           0      0            345777    9.5000          NaN        S   \n(0, 5]        1      1            347742   11.1333          NaN        S   \n(25, 35]      0      0            349248    7.8958          NaN        S   \n(45, 55]      1      1             11751   52.5542          D35        S   \n(25, 35]      0      0               695    5.0000  B51 B53 B55        S   \n(45, 55]      0      0            345765    9.0000          NaN        S   \n(25, 35]      1      0         P/PP 3381   24.0000          NaN        C   \n(5, 18]       0      0              2667    7.2250          NaN        C   \n(18, 25]      0      0              7534    9.8458          NaN        S   \n(18, 25]      0      0            349212    7.8958          NaN        S   \nNaN           0      0            349217    7.8958          NaN        S   \n(55, 85]      0      1             11767   83.1583          C50        C   \n(18, 25]      0      1            230433   26.0000          NaN        S   \n(25, 35]      0      0            349257    7.8958          NaN        S   \n(18, 25]      0      0              7552   10.5167          NaN        S   \n(25, 35]      0      0  C.A./SOTON 34068   10.5000          NaN        S   \n(18, 25]      0      0   SOTON/OQ 392076    7.0500          NaN        S   \n(35, 45]      0      5            382652   29.1250          NaN        Q   \n(25, 35]      0      0            211536   13.0000          NaN        S   \n(18, 25]      0      0            112053   30.0000          B42        S   \nNaN           1      2        W./C. 6607   23.4500          NaN        S   \n(25, 35]      0      0            111369   30.0000         C148        C   \n(25, 35]      0      0            370376    7.7500          NaN        Q   \n\n          party_size   age_bin  fare_class  \nAge                                         \n(18, 25]           1   (5, 18]       False  \n(35, 45]           1  (55, 85]       False  \n(25, 35]           0   (5, 18]       False  \n(25, 35]           1  (45, 55]        True  \n(25, 35]           0   (5, 18]       False  \nNaN                0   (5, 18]        True  \n(45, 55]           0  (45, 55]       False  \n(0, 5]             4  (18, 25]        True  \n(25, 35]           2   (5, 18]        True  \n(5, 18]            1  (25, 35]        True  \n(0, 5]             2   (5, 18]        True  \n(55, 85]           0  (25, 35]       False  \n(18, 25]           0   (5, 18]       False  \n(35, 45]           6  (25, 35]        True  \n(5, 18]            0   (5, 18]       False  \n(45, 55]           0   (5, 18]        True  \n(0, 5]             5  (25, 35]        True  \nNaN                0   (5, 18]        True  \n(25, 35]           1   (5, 18]        True  \nNaN                0   (5, 18]       False  \n(25, 35]           0  (25, 35]       False  \n(25, 35]           0   (5, 18]        True  \n(5, 18]            0   (5, 18]       False  \n(25, 35]           0  (35, 45]       False  \n(5, 18]            4  (18, 25]        True  \n(35, 45]           6  (25, 35]        True  \nNaN                0   (5, 18]       False  \n(18, 25]           5       NaN       False  \nNaN                0   (5, 18]       False  \nNaN                0   (5, 18]       False  \n...              ...       ...         ...  \n(18, 25]           1   (5, 18]        True  \n(45, 55]           0  (25, 35]       False  \nNaN               10  (55, 85]       False  \n(18, 25]           0   (5, 18]        True  \n(35, 45]           0   (5, 18]        True  \n(25, 35]           1   (5, 18]        True  \n(25, 35]           0  (45, 55]       False  \nNaN                0   (5, 18]        True  \n(0, 5]             2   (5, 18]        True  \n(25, 35]           0   (5, 18]       False  \n(45, 55]           2  (45, 55]        True  \n(25, 35]           0    (0, 5]        True  \n(45, 55]           0   (5, 18]        True  \n(25, 35]           1  (18, 25]        True  \n(5, 18]            0   (5, 18]       False  \n(18, 25]           0   (5, 18]        True  \n(18, 25]           0   (5, 18]       False  \nNaN                0   (5, 18]       False  \n(55, 85]           1  (55, 85]        True  \n(18, 25]           1  (25, 35]       False  \n(25, 35]           0   (5, 18]       False  \n(18, 25]           0   (5, 18]        True  \n(25, 35]           0   (5, 18]        True  \n(18, 25]           0   (5, 18]       False  \n(35, 45]           5  (25, 35]        True  \n(25, 35]           0   (5, 18]        True  \n(18, 25]           0  (25, 35]        True  \nNaN                3  (18, 25]        True  \n(25, 35]           0  (25, 35]        True  \n(25, 35]           0   (5, 18]       False  \n\n[891 rows x 15 columns]",
            "text/html": "<div>\n<style scoped>\n    .dataframe tbody tr th:only-of-type {\n        vertical-align: middle;\n    }\n\n    .dataframe tbody tr th {\n        vertical-align: top;\n    }\n\n    .dataframe thead th {\n        text-align: right;\n    }\n</style>\n<table border=\"1\" class=\"dataframe\">\n  <thead>\n    <tr style=\"text-align: right;\">\n      <th></th>\n      <th>PassengerId</th>\n      <th>Survived</th>\n      <th>Pclass</th>\n      <th>Name</th>\n      <th>Sex</th>\n      <th>Age</th>\n      <th>SibSp</th>\n      <th>Parch</th>\n      <th>Ticket</th>\n      <th>Fare</th>\n      <th>Cabin</th>\n      <th>Embarked</th>\n      <th>party_size</th>\n      <th>age_bin</th>\n      <th>fare_class</th>\n    </tr>\n    <tr>\n      <th>Age</th>\n      <th></th>\n      <th></th>\n      <th></th>\n      <th></th>\n      <th></th>\n      <th></th>\n      <th></th>\n      <th></th>\n      <th></th>\n      <th></th>\n      <th></th>\n      <th></th>\n      <th></th>\n      <th></th>\n      <th></th>\n    </tr>\n  </thead>\n  <tbody>\n    <tr>\n      <th>(18, 25]</th>\n      <td>1</td>\n      <td>0</td>\n      <td>3</td>\n      <td>Braund, Mr. Owen Harris</td>\n      <td>male</td>\n      <td>22.0</td>\n      <td>1</td>\n      <td>0</td>\n      <td>A/5 21171</td>\n      <td>7.2500</td>\n      <td>NaN</td>\n      <td>S</td>\n      <td>1</td>\n      <td>(5, 18]</td>\n      <td>False</td>\n    </tr>\n    <tr>\n      <th>(35, 45]</th>\n      <td>2</td>\n      <td>1</td>\n      <td>1</td>\n      <td>Cumings, Mrs. John Bradley (Florence Briggs Th...</td>\n      <td>female</td>\n      <td>38.0</td>\n      <td>1</td>\n      <td>0</td>\n      <td>PC 17599</td>\n      <td>71.2833</td>\n      <td>C85</td>\n      <td>C</td>\n      <td>1</td>\n      <td>(55, 85]</td>\n      <td>False</td>\n    </tr>\n    <tr>\n      <th>(25, 35]</th>\n      <td>3</td>\n      <td>1</td>\n      <td>3</td>\n      <td>Heikkinen, Miss. Laina</td>\n      <td>female</td>\n      <td>26.0</td>\n      <td>0</td>\n      <td>0</td>\n      <td>STON/O2. 3101282</td>\n      <td>7.9250</td>\n      <td>NaN</td>\n      <td>S</td>\n      <td>0</td>\n      <td>(5, 18]</td>\n      <td>False</td>\n    </tr>\n    <tr>\n      <th>(25, 35]</th>\n      <td>4</td>\n      <td>1</td>\n      <td>1</td>\n      <td>Futrelle, Mrs. Jacques Heath (Lily May Peel)</td>\n      <td>female</td>\n      <td>35.0</td>\n      <td>1</td>\n      <td>0</td>\n      <td>113803</td>\n      <td>53.1000</td>\n      <td>C123</td>\n      <td>S</td>\n      <td>1</td>\n      <td>(45, 55]</td>\n      <td>True</td>\n    </tr>\n    <tr>\n      <th>(25, 35]</th>\n      <td>5</td>\n      <td>0</td>\n      <td>3</td>\n      <td>Allen, Mr. William Henry</td>\n      <td>male</td>\n      <td>35.0</td>\n      <td>0</td>\n      <td>0</td>\n      <td>373450</td>\n      <td>8.0500</td>\n      <td>NaN</td>\n      <td>S</td>\n      <td>0</td>\n      <td>(5, 18]</td>\n      <td>False</td>\n    </tr>\n    <tr>\n      <th>NaN</th>\n      <td>6</td>\n      <td>0</td>\n      <td>3</td>\n      <td>Moran, Mr. James</td>\n      <td>male</td>\n      <td>NaN</td>\n      <td>0</td>\n      <td>0</td>\n      <td>330877</td>\n      <td>8.4583</td>\n      <td>NaN</td>\n      <td>Q</td>\n      <td>0</td>\n      <td>(5, 18]</td>\n      <td>True</td>\n    </tr>\n    <tr>\n      <th>(45, 55]</th>\n      <td>7</td>\n      <td>0</td>\n      <td>1</td>\n      <td>McCarthy, Mr. Timothy J</td>\n      <td>male</td>\n      <td>54.0</td>\n      <td>0</td>\n      <td>0</td>\n      <td>17463</td>\n      <td>51.8625</td>\n      <td>E46</td>\n      <td>S</td>\n      <td>0</td>\n      <td>(45, 55]</td>\n      <td>False</td>\n    </tr>\n    <tr>\n      <th>(0, 5]</th>\n      <td>8</td>\n      <td>0</td>\n      <td>3</td>\n      <td>Palsson, Master. Gosta Leonard</td>\n      <td>male</td>\n      <td>2.0</td>\n      <td>3</td>\n      <td>1</td>\n      <td>349909</td>\n      <td>21.0750</td>\n      <td>NaN</td>\n      <td>S</td>\n      <td>4</td>\n      <td>(18, 25]</td>\n      <td>True</td>\n    </tr>\n    <tr>\n      <th>(25, 35]</th>\n      <td>9</td>\n      <td>1</td>\n      <td>3</td>\n      <td>Johnson, Mrs. Oscar W (Elisabeth Vilhelmina Berg)</td>\n      <td>female</td>\n      <td>27.0</td>\n      <td>0</td>\n      <td>2</td>\n      <td>347742</td>\n      <td>11.1333</td>\n      <td>NaN</td>\n      <td>S</td>\n      <td>2</td>\n      <td>(5, 18]</td>\n      <td>True</td>\n    </tr>\n    <tr>\n      <th>(5, 18]</th>\n      <td>10</td>\n      <td>1</td>\n      <td>2</td>\n      <td>Nasser, Mrs. Nicholas (Adele Achem)</td>\n      <td>female</td>\n      <td>14.0</td>\n      <td>1</td>\n      <td>0</td>\n      <td>237736</td>\n      <td>30.0708</td>\n      <td>NaN</td>\n      <td>C</td>\n      <td>1</td>\n      <td>(25, 35]</td>\n      <td>True</td>\n    </tr>\n    <tr>\n      <th>(0, 5]</th>\n      <td>11</td>\n      <td>1</td>\n      <td>3</td>\n      <td>Sandstrom, Miss. Marguerite Rut</td>\n      <td>female</td>\n      <td>4.0</td>\n      <td>1</td>\n      <td>1</td>\n      <td>PP 9549</td>\n      <td>16.7000</td>\n      <td>G6</td>\n      <td>S</td>\n      <td>2</td>\n      <td>(5, 18]</td>\n      <td>True</td>\n    </tr>\n    <tr>\n      <th>(55, 85]</th>\n      <td>12</td>\n      <td>1</td>\n      <td>1</td>\n      <td>Bonnell, Miss. Elizabeth</td>\n      <td>female</td>\n      <td>58.0</td>\n      <td>0</td>\n      <td>0</td>\n      <td>113783</td>\n      <td>26.5500</td>\n      <td>C103</td>\n      <td>S</td>\n      <td>0</td>\n      <td>(25, 35]</td>\n      <td>False</td>\n    </tr>\n    <tr>\n      <th>(18, 25]</th>\n      <td>13</td>\n      <td>0</td>\n      <td>3</td>\n      <td>Saundercock, Mr. William Henry</td>\n      <td>male</td>\n      <td>20.0</td>\n      <td>0</td>\n      <td>0</td>\n      <td>A/5. 2151</td>\n      <td>8.0500</td>\n      <td>NaN</td>\n      <td>S</td>\n      <td>0</td>\n      <td>(5, 18]</td>\n      <td>False</td>\n    </tr>\n    <tr>\n      <th>(35, 45]</th>\n      <td>14</td>\n      <td>0</td>\n      <td>3</td>\n      <td>Andersson, Mr. Anders Johan</td>\n      <td>male</td>\n      <td>39.0</td>\n      <td>1</td>\n      <td>5</td>\n      <td>347082</td>\n      <td>31.2750</td>\n      <td>NaN</td>\n      <td>S</td>\n      <td>6</td>\n      <td>(25, 35]</td>\n      <td>True</td>\n    </tr>\n    <tr>\n      <th>(5, 18]</th>\n      <td>15</td>\n      <td>0</td>\n      <td>3</td>\n      <td>Vestrom, Miss. Hulda Amanda Adolfina</td>\n      <td>female</td>\n      <td>14.0</td>\n      <td>0</td>\n      <td>0</td>\n      <td>350406</td>\n      <td>7.8542</td>\n      <td>NaN</td>\n      <td>S</td>\n      <td>0</td>\n      <td>(5, 18]</td>\n      <td>False</td>\n    </tr>\n    <tr>\n      <th>(45, 55]</th>\n      <td>16</td>\n      <td>1</td>\n      <td>2</td>\n      <td>Hewlett, Mrs. (Mary D Kingcome)</td>\n      <td>female</td>\n      <td>55.0</td>\n      <td>0</td>\n      <td>0</td>\n      <td>248706</td>\n      <td>16.0000</td>\n      <td>NaN</td>\n      <td>S</td>\n      <td>0</td>\n      <td>(5, 18]</td>\n      <td>True</td>\n    </tr>\n    <tr>\n      <th>(0, 5]</th>\n      <td>17</td>\n      <td>0</td>\n      <td>3</td>\n      <td>Rice, Master. Eugene</td>\n      <td>male</td>\n      <td>2.0</td>\n      <td>4</td>\n      <td>1</td>\n      <td>382652</td>\n      <td>29.1250</td>\n      <td>NaN</td>\n      <td>Q</td>\n      <td>5</td>\n      <td>(25, 35]</td>\n      <td>True</td>\n    </tr>\n    <tr>\n      <th>NaN</th>\n      <td>18</td>\n      <td>1</td>\n      <td>2</td>\n      <td>Williams, Mr. Charles Eugene</td>\n      <td>male</td>\n      <td>NaN</td>\n      <td>0</td>\n      <td>0</td>\n      <td>244373</td>\n      <td>13.0000</td>\n      <td>NaN</td>\n      <td>S</td>\n      <td>0</td>\n      <td>(5, 18]</td>\n      <td>True</td>\n    </tr>\n    <tr>\n      <th>(25, 35]</th>\n      <td>19</td>\n      <td>0</td>\n      <td>3</td>\n      <td>Vander Planke, Mrs. Julius (Emelia Maria Vande...</td>\n      <td>female</td>\n      <td>31.0</td>\n      <td>1</td>\n      <td>0</td>\n      <td>345763</td>\n      <td>18.0000</td>\n      <td>NaN</td>\n      <td>S</td>\n      <td>1</td>\n      <td>(5, 18]</td>\n      <td>True</td>\n    </tr>\n    <tr>\n      <th>NaN</th>\n      <td>20</td>\n      <td>1</td>\n      <td>3</td>\n      <td>Masselmani, Mrs. Fatima</td>\n      <td>female</td>\n      <td>NaN</td>\n      <td>0</td>\n      <td>0</td>\n      <td>2649</td>\n      <td>7.2250</td>\n      <td>NaN</td>\n      <td>C</td>\n      <td>0</td>\n      <td>(5, 18]</td>\n      <td>False</td>\n    </tr>\n    <tr>\n      <th>(25, 35]</th>\n      <td>21</td>\n      <td>0</td>\n      <td>2</td>\n      <td>Fynney, Mr. Joseph J</td>\n      <td>male</td>\n      <td>35.0</td>\n      <td>0</td>\n      <td>0</td>\n      <td>239865</td>\n      <td>26.0000</td>\n      <td>NaN</td>\n      <td>S</td>\n      <td>0</td>\n      <td>(25, 35]</td>\n      <td>False</td>\n    </tr>\n    <tr>\n      <th>(25, 35]</th>\n      <td>22</td>\n      <td>1</td>\n      <td>2</td>\n      <td>Beesley, Mr. Lawrence</td>\n      <td>male</td>\n      <td>34.0</td>\n      <td>0</td>\n      <td>0</td>\n      <td>248698</td>\n      <td>13.0000</td>\n      <td>D56</td>\n      <td>S</td>\n      <td>0</td>\n      <td>(5, 18]</td>\n      <td>True</td>\n    </tr>\n    <tr>\n      <th>(5, 18]</th>\n      <td>23</td>\n      <td>1</td>\n      <td>3</td>\n      <td>McGowan, Miss. Anna \"Annie\"</td>\n      <td>female</td>\n      <td>15.0</td>\n      <td>0</td>\n      <td>0</td>\n      <td>330923</td>\n      <td>8.0292</td>\n      <td>NaN</td>\n      <td>Q</td>\n      <td>0</td>\n      <td>(5, 18]</td>\n      <td>False</td>\n    </tr>\n    <tr>\n      <th>(25, 35]</th>\n      <td>24</td>\n      <td>1</td>\n      <td>1</td>\n      <td>Sloper, Mr. William Thompson</td>\n      <td>male</td>\n      <td>28.0</td>\n      <td>0</td>\n      <td>0</td>\n      <td>113788</td>\n      <td>35.5000</td>\n      <td>A6</td>\n      <td>S</td>\n      <td>0</td>\n      <td>(35, 45]</td>\n      <td>False</td>\n    </tr>\n    <tr>\n      <th>(5, 18]</th>\n      <td>25</td>\n      <td>0</td>\n      <td>3</td>\n      <td>Palsson, Miss. Torborg Danira</td>\n      <td>female</td>\n      <td>8.0</td>\n      <td>3</td>\n      <td>1</td>\n      <td>349909</td>\n      <td>21.0750</td>\n      <td>NaN</td>\n      <td>S</td>\n      <td>4</td>\n      <td>(18, 25]</td>\n      <td>True</td>\n    </tr>\n    <tr>\n      <th>(35, 45]</th>\n      <td>26</td>\n      <td>1</td>\n      <td>3</td>\n      <td>Asplund, Mrs. Carl Oscar (Selma Augusta Emilia...</td>\n      <td>female</td>\n      <td>38.0</td>\n      <td>1</td>\n      <td>5</td>\n      <td>347077</td>\n      <td>31.3875</td>\n      <td>NaN</td>\n      <td>S</td>\n      <td>6</td>\n      <td>(25, 35]</td>\n      <td>True</td>\n    </tr>\n    <tr>\n      <th>NaN</th>\n      <td>27</td>\n      <td>0</td>\n      <td>3</td>\n      <td>Emir, Mr. Farred Chehab</td>\n      <td>male</td>\n      <td>NaN</td>\n      <td>0</td>\n      <td>0</td>\n      <td>2631</td>\n      <td>7.2250</td>\n      <td>NaN</td>\n      <td>C</td>\n      <td>0</td>\n      <td>(5, 18]</td>\n      <td>False</td>\n    </tr>\n    <tr>\n      <th>(18, 25]</th>\n      <td>28</td>\n      <td>0</td>\n      <td>1</td>\n      <td>Fortune, Mr. Charles Alexander</td>\n      <td>male</td>\n      <td>19.0</td>\n      <td>3</td>\n      <td>2</td>\n      <td>19950</td>\n      <td>263.0000</td>\n      <td>C23 C25 C27</td>\n      <td>S</td>\n      <td>5</td>\n      <td>NaN</td>\n      <td>False</td>\n    </tr>\n    <tr>\n      <th>NaN</th>\n      <td>29</td>\n      <td>1</td>\n      <td>3</td>\n      <td>O'Dwyer, Miss. Ellen \"Nellie\"</td>\n      <td>female</td>\n      <td>NaN</td>\n      <td>0</td>\n      <td>0</td>\n      <td>330959</td>\n      <td>7.8792</td>\n      <td>NaN</td>\n      <td>Q</td>\n      <td>0</td>\n      <td>(5, 18]</td>\n      <td>False</td>\n    </tr>\n    <tr>\n      <th>NaN</th>\n      <td>30</td>\n      <td>0</td>\n      <td>3</td>\n      <td>Todoroff, Mr. Lalio</td>\n      <td>male</td>\n      <td>NaN</td>\n      <td>0</td>\n      <td>0</td>\n      <td>349216</td>\n      <td>7.8958</td>\n      <td>NaN</td>\n      <td>S</td>\n      <td>0</td>\n      <td>(5, 18]</td>\n      <td>False</td>\n    </tr>\n    <tr>\n      <th>...</th>\n      <td>...</td>\n      <td>...</td>\n      <td>...</td>\n      <td>...</td>\n      <td>...</td>\n      <td>...</td>\n      <td>...</td>\n      <td>...</td>\n      <td>...</td>\n      <td>...</td>\n      <td>...</td>\n      <td>...</td>\n      <td>...</td>\n      <td>...</td>\n      <td>...</td>\n    </tr>\n    <tr>\n      <th>(18, 25]</th>\n      <td>862</td>\n      <td>0</td>\n      <td>2</td>\n      <td>Giles, Mr. Frederick Edward</td>\n      <td>male</td>\n      <td>21.0</td>\n      <td>1</td>\n      <td>0</td>\n      <td>28134</td>\n      <td>11.5000</td>\n      <td>NaN</td>\n      <td>S</td>\n      <td>1</td>\n      <td>(5, 18]</td>\n      <td>True</td>\n    </tr>\n    <tr>\n      <th>(45, 55]</th>\n      <td>863</td>\n      <td>1</td>\n      <td>1</td>\n      <td>Swift, Mrs. Frederick Joel (Margaret Welles Ba...</td>\n      <td>female</td>\n      <td>48.0</td>\n      <td>0</td>\n      <td>0</td>\n      <td>17466</td>\n      <td>25.9292</td>\n      <td>D17</td>\n      <td>S</td>\n      <td>0</td>\n      <td>(25, 35]</td>\n      <td>False</td>\n    </tr>\n    <tr>\n      <th>NaN</th>\n      <td>864</td>\n      <td>0</td>\n      <td>3</td>\n      <td>Sage, Miss. Dorothy Edith \"Dolly\"</td>\n      <td>female</td>\n      <td>NaN</td>\n      <td>8</td>\n      <td>2</td>\n      <td>CA. 2343</td>\n      <td>69.5500</td>\n      <td>NaN</td>\n      <td>S</td>\n      <td>10</td>\n      <td>(55, 85]</td>\n      <td>False</td>\n    </tr>\n    <tr>\n      <th>(18, 25]</th>\n      <td>865</td>\n      <td>0</td>\n      <td>2</td>\n      <td>Gill, Mr. John William</td>\n      <td>male</td>\n      <td>24.0</td>\n      <td>0</td>\n      <td>0</td>\n      <td>233866</td>\n      <td>13.0000</td>\n      <td>NaN</td>\n      <td>S</td>\n      <td>0</td>\n      <td>(5, 18]</td>\n      <td>True</td>\n    </tr>\n    <tr>\n      <th>(35, 45]</th>\n      <td>866</td>\n      <td>1</td>\n      <td>2</td>\n      <td>Bystrom, Mrs. (Karolina)</td>\n      <td>female</td>\n      <td>42.0</td>\n      <td>0</td>\n      <td>0</td>\n      <td>236852</td>\n      <td>13.0000</td>\n      <td>NaN</td>\n      <td>S</td>\n      <td>0</td>\n      <td>(5, 18]</td>\n      <td>True</td>\n    </tr>\n    <tr>\n      <th>(25, 35]</th>\n      <td>867</td>\n      <td>1</td>\n      <td>2</td>\n      <td>Duran y More, Miss. Asuncion</td>\n      <td>female</td>\n      <td>27.0</td>\n      <td>1</td>\n      <td>0</td>\n      <td>SC/PARIS 2149</td>\n      <td>13.8583</td>\n      <td>NaN</td>\n      <td>C</td>\n      <td>1</td>\n      <td>(5, 18]</td>\n      <td>True</td>\n    </tr>\n    <tr>\n      <th>(25, 35]</th>\n      <td>868</td>\n      <td>0</td>\n      <td>1</td>\n      <td>Roebling, Mr. Washington Augustus II</td>\n      <td>male</td>\n      <td>31.0</td>\n      <td>0</td>\n      <td>0</td>\n      <td>PC 17590</td>\n      <td>50.4958</td>\n      <td>A24</td>\n      <td>S</td>\n      <td>0</td>\n      <td>(45, 55]</td>\n      <td>False</td>\n    </tr>\n    <tr>\n      <th>NaN</th>\n      <td>869</td>\n      <td>0</td>\n      <td>3</td>\n      <td>van Melkebeke, Mr. Philemon</td>\n      <td>male</td>\n      <td>NaN</td>\n      <td>0</td>\n      <td>0</td>\n      <td>345777</td>\n      <td>9.5000</td>\n      <td>NaN</td>\n      <td>S</td>\n      <td>0</td>\n      <td>(5, 18]</td>\n      <td>True</td>\n    </tr>\n    <tr>\n      <th>(0, 5]</th>\n      <td>870</td>\n      <td>1</td>\n      <td>3</td>\n      <td>Johnson, Master. Harold Theodor</td>\n      <td>male</td>\n      <td>4.0</td>\n      <td>1</td>\n      <td>1</td>\n      <td>347742</td>\n      <td>11.1333</td>\n      <td>NaN</td>\n      <td>S</td>\n      <td>2</td>\n      <td>(5, 18]</td>\n      <td>True</td>\n    </tr>\n    <tr>\n      <th>(25, 35]</th>\n      <td>871</td>\n      <td>0</td>\n      <td>3</td>\n      <td>Balkic, Mr. Cerin</td>\n      <td>male</td>\n      <td>26.0</td>\n      <td>0</td>\n      <td>0</td>\n      <td>349248</td>\n      <td>7.8958</td>\n      <td>NaN</td>\n      <td>S</td>\n      <td>0</td>\n      <td>(5, 18]</td>\n      <td>False</td>\n    </tr>\n    <tr>\n      <th>(45, 55]</th>\n      <td>872</td>\n      <td>1</td>\n      <td>1</td>\n      <td>Beckwith, Mrs. Richard Leonard (Sallie Monypeny)</td>\n      <td>female</td>\n      <td>47.0</td>\n      <td>1</td>\n      <td>1</td>\n      <td>11751</td>\n      <td>52.5542</td>\n      <td>D35</td>\n      <td>S</td>\n      <td>2</td>\n      <td>(45, 55]</td>\n      <td>True</td>\n    </tr>\n    <tr>\n      <th>(25, 35]</th>\n      <td>873</td>\n      <td>0</td>\n      <td>1</td>\n      <td>Carlsson, Mr. Frans Olof</td>\n      <td>male</td>\n      <td>33.0</td>\n      <td>0</td>\n      <td>0</td>\n      <td>695</td>\n      <td>5.0000</td>\n      <td>B51 B53 B55</td>\n      <td>S</td>\n      <td>0</td>\n      <td>(0, 5]</td>\n      <td>True</td>\n    </tr>\n    <tr>\n      <th>(45, 55]</th>\n      <td>874</td>\n      <td>0</td>\n      <td>3</td>\n      <td>Vander Cruyssen, Mr. Victor</td>\n      <td>male</td>\n      <td>47.0</td>\n      <td>0</td>\n      <td>0</td>\n      <td>345765</td>\n      <td>9.0000</td>\n      <td>NaN</td>\n      <td>S</td>\n      <td>0</td>\n      <td>(5, 18]</td>\n      <td>True</td>\n    </tr>\n    <tr>\n      <th>(25, 35]</th>\n      <td>875</td>\n      <td>1</td>\n      <td>2</td>\n      <td>Abelson, Mrs. Samuel (Hannah Wizosky)</td>\n      <td>female</td>\n      <td>28.0</td>\n      <td>1</td>\n      <td>0</td>\n      <td>P/PP 3381</td>\n      <td>24.0000</td>\n      <td>NaN</td>\n      <td>C</td>\n      <td>1</td>\n      <td>(18, 25]</td>\n      <td>True</td>\n    </tr>\n    <tr>\n      <th>(5, 18]</th>\n      <td>876</td>\n      <td>1</td>\n      <td>3</td>\n      <td>Najib, Miss. Adele Kiamie \"Jane\"</td>\n      <td>female</td>\n      <td>15.0</td>\n      <td>0</td>\n      <td>0</td>\n      <td>2667</td>\n      <td>7.2250</td>\n      <td>NaN</td>\n      <td>C</td>\n      <td>0</td>\n      <td>(5, 18]</td>\n      <td>False</td>\n    </tr>\n    <tr>\n      <th>(18, 25]</th>\n      <td>877</td>\n      <td>0</td>\n      <td>3</td>\n      <td>Gustafsson, Mr. Alfred Ossian</td>\n      <td>male</td>\n      <td>20.0</td>\n      <td>0</td>\n      <td>0</td>\n      <td>7534</td>\n      <td>9.8458</td>\n      <td>NaN</td>\n      <td>S</td>\n      <td>0</td>\n      <td>(5, 18]</td>\n      <td>True</td>\n    </tr>\n    <tr>\n      <th>(18, 25]</th>\n      <td>878</td>\n      <td>0</td>\n      <td>3</td>\n      <td>Petroff, Mr. Nedelio</td>\n      <td>male</td>\n      <td>19.0</td>\n      <td>0</td>\n      <td>0</td>\n      <td>349212</td>\n      <td>7.8958</td>\n      <td>NaN</td>\n      <td>S</td>\n      <td>0</td>\n      <td>(5, 18]</td>\n      <td>False</td>\n    </tr>\n    <tr>\n      <th>NaN</th>\n      <td>879</td>\n      <td>0</td>\n      <td>3</td>\n      <td>Laleff, Mr. Kristo</td>\n      <td>male</td>\n      <td>NaN</td>\n      <td>0</td>\n      <td>0</td>\n      <td>349217</td>\n      <td>7.8958</td>\n      <td>NaN</td>\n      <td>S</td>\n      <td>0</td>\n      <td>(5, 18]</td>\n      <td>False</td>\n    </tr>\n    <tr>\n      <th>(55, 85]</th>\n      <td>880</td>\n      <td>1</td>\n      <td>1</td>\n      <td>Potter, Mrs. Thomas Jr (Lily Alexenia Wilson)</td>\n      <td>female</td>\n      <td>56.0</td>\n      <td>0</td>\n      <td>1</td>\n      <td>11767</td>\n      <td>83.1583</td>\n      <td>C50</td>\n      <td>C</td>\n      <td>1</td>\n      <td>(55, 85]</td>\n      <td>True</td>\n    </tr>\n    <tr>\n      <th>(18, 25]</th>\n      <td>881</td>\n      <td>1</td>\n      <td>2</td>\n      <td>Shelley, Mrs. William (Imanita Parrish Hall)</td>\n      <td>female</td>\n      <td>25.0</td>\n      <td>0</td>\n      <td>1</td>\n      <td>230433</td>\n      <td>26.0000</td>\n      <td>NaN</td>\n      <td>S</td>\n      <td>1</td>\n      <td>(25, 35]</td>\n      <td>False</td>\n    </tr>\n    <tr>\n      <th>(25, 35]</th>\n      <td>882</td>\n      <td>0</td>\n      <td>3</td>\n      <td>Markun, Mr. Johann</td>\n      <td>male</td>\n      <td>33.0</td>\n      <td>0</td>\n      <td>0</td>\n      <td>349257</td>\n      <td>7.8958</td>\n      <td>NaN</td>\n      <td>S</td>\n      <td>0</td>\n      <td>(5, 18]</td>\n      <td>False</td>\n    </tr>\n    <tr>\n      <th>(18, 25]</th>\n      <td>883</td>\n      <td>0</td>\n      <td>3</td>\n      <td>Dahlberg, Miss. Gerda Ulrika</td>\n      <td>female</td>\n      <td>22.0</td>\n      <td>0</td>\n      <td>0</td>\n      <td>7552</td>\n      <td>10.5167</td>\n      <td>NaN</td>\n      <td>S</td>\n      <td>0</td>\n      <td>(5, 18]</td>\n      <td>True</td>\n    </tr>\n    <tr>\n      <th>(25, 35]</th>\n      <td>884</td>\n      <td>0</td>\n      <td>2</td>\n      <td>Banfield, Mr. Frederick James</td>\n      <td>male</td>\n      <td>28.0</td>\n      <td>0</td>\n      <td>0</td>\n      <td>C.A./SOTON 34068</td>\n      <td>10.5000</td>\n      <td>NaN</td>\n      <td>S</td>\n      <td>0</td>\n      <td>(5, 18]</td>\n      <td>True</td>\n    </tr>\n    <tr>\n      <th>(18, 25]</th>\n      <td>885</td>\n      <td>0</td>\n      <td>3</td>\n      <td>Sutehall, Mr. Henry Jr</td>\n      <td>male</td>\n      <td>25.0</td>\n      <td>0</td>\n      <td>0</td>\n      <td>SOTON/OQ 392076</td>\n      <td>7.0500</td>\n      <td>NaN</td>\n      <td>S</td>\n      <td>0</td>\n      <td>(5, 18]</td>\n      <td>False</td>\n    </tr>\n    <tr>\n      <th>(35, 45]</th>\n      <td>886</td>\n      <td>0</td>\n      <td>3</td>\n      <td>Rice, Mrs. William (Margaret Norton)</td>\n      <td>female</td>\n      <td>39.0</td>\n      <td>0</td>\n      <td>5</td>\n      <td>382652</td>\n      <td>29.1250</td>\n      <td>NaN</td>\n      <td>Q</td>\n      <td>5</td>\n      <td>(25, 35]</td>\n      <td>True</td>\n    </tr>\n    <tr>\n      <th>(25, 35]</th>\n      <td>887</td>\n      <td>0</td>\n      <td>2</td>\n      <td>Montvila, Rev. Juozas</td>\n      <td>male</td>\n      <td>27.0</td>\n      <td>0</td>\n      <td>0</td>\n      <td>211536</td>\n      <td>13.0000</td>\n      <td>NaN</td>\n      <td>S</td>\n      <td>0</td>\n      <td>(5, 18]</td>\n      <td>True</td>\n    </tr>\n    <tr>\n      <th>(18, 25]</th>\n      <td>888</td>\n      <td>1</td>\n      <td>1</td>\n      <td>Graham, Miss. Margaret Edith</td>\n      <td>female</td>\n      <td>19.0</td>\n      <td>0</td>\n      <td>0</td>\n      <td>112053</td>\n      <td>30.0000</td>\n      <td>B42</td>\n      <td>S</td>\n      <td>0</td>\n      <td>(25, 35]</td>\n      <td>True</td>\n    </tr>\n    <tr>\n      <th>NaN</th>\n      <td>889</td>\n      <td>0</td>\n      <td>3</td>\n      <td>Johnston, Miss. Catherine Helen \"Carrie\"</td>\n      <td>female</td>\n      <td>NaN</td>\n      <td>1</td>\n      <td>2</td>\n      <td>W./C. 6607</td>\n      <td>23.4500</td>\n      <td>NaN</td>\n      <td>S</td>\n      <td>3</td>\n      <td>(18, 25]</td>\n      <td>True</td>\n    </tr>\n    <tr>\n      <th>(25, 35]</th>\n      <td>890</td>\n      <td>1</td>\n      <td>1</td>\n      <td>Behr, Mr. Karl Howell</td>\n      <td>male</td>\n      <td>26.0</td>\n      <td>0</td>\n      <td>0</td>\n      <td>111369</td>\n      <td>30.0000</td>\n      <td>C148</td>\n      <td>C</td>\n      <td>0</td>\n      <td>(25, 35]</td>\n      <td>True</td>\n    </tr>\n    <tr>\n      <th>(25, 35]</th>\n      <td>891</td>\n      <td>0</td>\n      <td>3</td>\n      <td>Dooley, Mr. Patrick</td>\n      <td>male</td>\n      <td>32.0</td>\n      <td>0</td>\n      <td>0</td>\n      <td>370376</td>\n      <td>7.7500</td>\n      <td>NaN</td>\n      <td>Q</td>\n      <td>0</td>\n      <td>(5, 18]</td>\n      <td>False</td>\n    </tr>\n  </tbody>\n</table>\n<p>891 rows × 15 columns</p>\n</div>"
          },
          "metadata": {}
        }
      ]
    },
    {
      "metadata": {
        "trusted": true
      },
      "cell_type": "code",
      "source": "",
      "execution_count": null,
      "outputs": []
    }
  ],
  "metadata": {
    "kernelspec": {
      "name": "python2",
      "display_name": "Python 2",
      "language": "python"
    },
    "language_info": {
      "mimetype": "text/x-python",
      "nbconvert_exporter": "python",
      "name": "python",
      "pygments_lexer": "ipython2",
      "version": "2.7.15",
      "file_extension": ".py",
      "codemirror_mode": {
        "version": 2,
        "name": "ipython"
      }
    }
  },
  "nbformat": 4,
  "nbformat_minor": 2
}