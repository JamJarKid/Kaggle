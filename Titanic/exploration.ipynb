{
  "cells": [
    {
      "metadata": {
        "trusted": true
      },
      "cell_type": "code",
      "source": "%matplotlib inline\nimport matplotlib.pyplot as plt\nimport seaborn as sns; sns.set()\nimport pandas as pd\nimport numpy as np\nfrom sklearn.preprocessing import StandardScaler\nfrom sklearn.pipeline import Pipeline\nfrom sklearn.model_selection import GridSearchCV\nfrom sklearn.linear_model import LogisticRegression\nfrom sklearn.model_selection import train_test_split\nfrom sklearn.utils import shuffle\nfrom sklearn import metrics",
      "execution_count": 79,
      "outputs": []
    },
    {
      "metadata": {
        "trusted": true
      },
      "cell_type": "code",
      "source": "X = pd.read_csv('./train.csv')\ntest = pd.read_csv('./test.csv')",
      "execution_count": 80,
      "outputs": []
    },
    {
      "metadata": {
        "trusted": true
      },
      "cell_type": "code",
      "source": "X.head()",
      "execution_count": 81,
      "outputs": [
        {
          "output_type": "execute_result",
          "execution_count": 81,
          "data": {
            "text/plain": "   PassengerId  Survived  Pclass  \\\n0            1         0       3   \n1            2         1       1   \n2            3         1       3   \n3            4         1       1   \n4            5         0       3   \n\n                                                Name     Sex   Age  SibSp  \\\n0                            Braund, Mr. Owen Harris    male  22.0      1   \n1  Cumings, Mrs. John Bradley (Florence Briggs Th...  female  38.0      1   \n2                             Heikkinen, Miss. Laina  female  26.0      0   \n3       Futrelle, Mrs. Jacques Heath (Lily May Peel)  female  35.0      1   \n4                           Allen, Mr. William Henry    male  35.0      0   \n\n   Parch            Ticket     Fare Cabin Embarked  \n0      0         A/5 21171   7.2500   NaN        S  \n1      0          PC 17599  71.2833   C85        C  \n2      0  STON/O2. 3101282   7.9250   NaN        S  \n3      0            113803  53.1000  C123        S  \n4      0            373450   8.0500   NaN        S  ",
            "text/html": "<div>\n<style scoped>\n    .dataframe tbody tr th:only-of-type {\n        vertical-align: middle;\n    }\n\n    .dataframe tbody tr th {\n        vertical-align: top;\n    }\n\n    .dataframe thead th {\n        text-align: right;\n    }\n</style>\n<table border=\"1\" class=\"dataframe\">\n  <thead>\n    <tr style=\"text-align: right;\">\n      <th></th>\n      <th>PassengerId</th>\n      <th>Survived</th>\n      <th>Pclass</th>\n      <th>Name</th>\n      <th>Sex</th>\n      <th>Age</th>\n      <th>SibSp</th>\n      <th>Parch</th>\n      <th>Ticket</th>\n      <th>Fare</th>\n      <th>Cabin</th>\n      <th>Embarked</th>\n    </tr>\n  </thead>\n  <tbody>\n    <tr>\n      <th>0</th>\n      <td>1</td>\n      <td>0</td>\n      <td>3</td>\n      <td>Braund, Mr. Owen Harris</td>\n      <td>male</td>\n      <td>22.0</td>\n      <td>1</td>\n      <td>0</td>\n      <td>A/5 21171</td>\n      <td>7.2500</td>\n      <td>NaN</td>\n      <td>S</td>\n    </tr>\n    <tr>\n      <th>1</th>\n      <td>2</td>\n      <td>1</td>\n      <td>1</td>\n      <td>Cumings, Mrs. John Bradley (Florence Briggs Th...</td>\n      <td>female</td>\n      <td>38.0</td>\n      <td>1</td>\n      <td>0</td>\n      <td>PC 17599</td>\n      <td>71.2833</td>\n      <td>C85</td>\n      <td>C</td>\n    </tr>\n    <tr>\n      <th>2</th>\n      <td>3</td>\n      <td>1</td>\n      <td>3</td>\n      <td>Heikkinen, Miss. Laina</td>\n      <td>female</td>\n      <td>26.0</td>\n      <td>0</td>\n      <td>0</td>\n      <td>STON/O2. 3101282</td>\n      <td>7.9250</td>\n      <td>NaN</td>\n      <td>S</td>\n    </tr>\n    <tr>\n      <th>3</th>\n      <td>4</td>\n      <td>1</td>\n      <td>1</td>\n      <td>Futrelle, Mrs. Jacques Heath (Lily May Peel)</td>\n      <td>female</td>\n      <td>35.0</td>\n      <td>1</td>\n      <td>0</td>\n      <td>113803</td>\n      <td>53.1000</td>\n      <td>C123</td>\n      <td>S</td>\n    </tr>\n    <tr>\n      <th>4</th>\n      <td>5</td>\n      <td>0</td>\n      <td>3</td>\n      <td>Allen, Mr. William Henry</td>\n      <td>male</td>\n      <td>35.0</td>\n      <td>0</td>\n      <td>0</td>\n      <td>373450</td>\n      <td>8.0500</td>\n      <td>NaN</td>\n      <td>S</td>\n    </tr>\n  </tbody>\n</table>\n</div>"
          },
          "metadata": {}
        }
      ]
    },
    {
      "metadata": {
        "trusted": true
      },
      "cell_type": "code",
      "source": "X['PassengerId'].nunique()\n#Entirely Unique so we'll remove it ",
      "execution_count": 82,
      "outputs": [
        {
          "output_type": "execute_result",
          "execution_count": 82,
          "data": {
            "text/plain": "891"
          },
          "metadata": {}
        }
      ]
    },
    {
      "metadata": {
        "trusted": true
      },
      "cell_type": "code",
      "source": "X.drop('PassengerId', axis=1 inplace=True)",
      "execution_count": 83,
      "outputs": [
        {
          "output_type": "error",
          "ename": "SyntaxError",
          "evalue": "invalid syntax (<ipython-input-83-0d66cd5b4886>, line 1)",
          "traceback": [
            "\u001b[0;36m  File \u001b[0;32m\"<ipython-input-83-0d66cd5b4886>\"\u001b[0;36m, line \u001b[0;32m1\u001b[0m\n\u001b[0;31m    X.drop('PassengerId', axis=1 inplace=True)\u001b[0m\n\u001b[0m                                       ^\u001b[0m\n\u001b[0;31mSyntaxError\u001b[0m\u001b[0;31m:\u001b[0m invalid syntax\n"
          ]
        }
      ]
    },
    {
      "metadata": {
        "trusted": true,
        "scrolled": true
      },
      "cell_type": "code",
      "source": "X['Survived'].value_counts().plot(kind='bar')\n\nplt.xticks([0,1], ['Perished', 'Survived'],  rotation='horizontal')\n\nprint 'There are {} passengers in the data, {} survived and {} perished'.format(X['Survived'].count(), X['Survived'].value_counts()[0], X['Survived'].value_counts()[1])",
      "execution_count": 84,
      "outputs": [
        {
          "output_type": "stream",
          "text": "There are 891 passengers in the data, 549 survived and 342 perished\n",
          "name": "stdout"
        },
        {
          "output_type": "display_data",
          "data": {
            "image/png": "[encoded data removed]",
            "text/plain": "<Figure size 432x288 with 1 Axes>"
          },
          "metadata": {}
        }
      ]
    },
    {
      "metadata": {
        "trusted": true
      },
      "cell_type": "code",
      "source": "X['Pclass'].value_counts().sort_index().plot(kind='bar')\n\nplt.xticks([0, 1, 2], ['1st', '2nd', '3rd' ],  rotation='horizontal')\n\nprint'There are 3 classes of passenger: 1st, 2nd and 3rd.\\nThere are {} in 1st class, {} in 2nd class and {} in 3rd class'.format( X['Pclass'].value_counts()[1], X['Pclass'].value_counts()[2], X['Pclass'].value_counts()[3])",
      "execution_count": 85,
      "outputs": [
        {
          "output_type": "stream",
          "text": "There are 3 classes of passenger: 1st, 2nd and 3rd.\nThere are 216 in 1st class, 184 in 2nd class and 491 in 3rd class\n",
          "name": "stdout"
        },
        {
          "output_type": "display_data",
          "data": {
            "image/png": "[encoded data removed]",
            "text/plain": "<Figure size 432x288 with 1 Axes>"
          },
          "metadata": {}
        }
      ]
    },
    {
      "metadata": {
        "trusted": true,
        "scrolled": false
      },
      "cell_type": "code",
      "source": "X.loc[:,'Sex'].replace({'male':1, 'female':0},inplace=True)\n\nX['Sex'].value_counts().plot(kind='bar')\n\nplt.xticks([0, 1], ['Male', 'Female'],  rotation='horizontal')\n\nprint'There are {} men and {} women '.format( X['Sex'].value_counts()[1], X['Sex'].value_counts()[0])",
      "execution_count": 86,
      "outputs": [
        {
          "output_type": "stream",
          "text": "There are 577 men and 314 women \n",
          "name": "stdout"
        },
        {
          "output_type": "display_data",
          "data": {
            "image/png": "[encoded data removed]",
            "text/plain": "<Figure size 432x288 with 1 Axes>"
          },
          "metadata": {}
        }
      ]
    },
    {
      "metadata": {
        "trusted": true
      },
      "cell_type": "code",
      "source": "X['Age'].describe()\n\nX['Age'].isnull().sum()",
      "execution_count": 111,
      "outputs": [
        {
          "output_type": "execute_result",
          "execution_count": 111,
          "data": {
            "text/plain": "177"
          },
          "metadata": {}
        }
      ]
    },
    {
      "metadata": {
        "trusted": true,
        "scrolled": false
      },
      "cell_type": "code",
      "source": "X['Age'].hist()\n\nAges = X['Age'].describe()\n\nprint'The ages range between {} and {} years old.\\nThe mean, median and mode are {}, {} and {}, the data shows a positive skew.\\nOf {} values there are {} null values'.format(\n    Ages['min'], Ages['max'], Ages['mean'], X['Age'].median(), X['Age'].mode()[0], 891, X['Age'].isnull().sum()\n)",
      "execution_count": 115,
      "outputs": [
        {
          "output_type": "stream",
          "text": "The ages range between 0.42 and 80.0 years old.\nThe mean, median and mode are 29.6991176471, 28.0 and 24.0, the data shows a positive skew.\nOf 891 values there are 177 null values\n",
          "name": "stdout"
        },
        {
          "output_type": "display_data",
          "data": {
            "image/png": "[encoded data removed]",
            "text/plain": "<Figure size 432x288 with 1 Axes>"
          },
          "metadata": {}
        }
      ]
    },
    {
      "metadata": {
        "trusted": true
      },
      "cell_type": "code",
      "source": "X['Family'] = X['SibSp'] + X['Parch']",
      "execution_count": 116,
      "outputs": []
    },
    {
      "metadata": {
        "trusted": true
      },
      "cell_type": "code",
      "source": "fig, axarr = plt.subplots(1, 3, figsize = (15, 5))\nfig.subplots_adjust(left=None, bottom=None, right=None, top=None, wspace=0.2, hspace=0.5)\nplots = ['Family', 'SibSp', 'Parch']\nfor i in range(3):\n    plt.sca(axarr[i])\n    plt.hist(X[plots[i]])\n    plt.title(plots[i])\n    plt.xlabel('Number of')",
      "execution_count": 132,
      "outputs": [
        {
          "output_type": "display_data",
          "data": {
            "image/png": "[encoded data removed]",
            "text/plain": "<Figure size 1080x360 with 3 Axes>"
          },
          "metadata": {}
        }
      ]
    },
    {
      "metadata": {
        "trusted": true,
        "scrolled": true
      },
      "cell_type": "code",
      "source": "#Checking the null values as a percentage of total values\nnull = X.isnull().sum().astype(float)/X.shape[0]\nnull[null!=0]",
      "execution_count": 87,
      "outputs": [
        {
          "output_type": "execute_result",
          "execution_count": 87,
          "data": {
            "text/plain": "Age         0.198653\nCabin       0.771044\nEmbarked    0.002245\ndtype: float64"
          },
          "metadata": {}
        }
      ]
    },
    {
      "metadata": {
        "trusted": true,
        "scrolled": true
      },
      "cell_type": "code",
      "source": "#77% data missing no point in keeping, cannot reconstruct\nX.drop('Cabin', axis=1, inplace=True)",
      "execution_count": 4,
      "outputs": []
    },
    {
      "metadata": {
        "trusted": true
      },
      "cell_type": "code",
      "source": "X['Embarked'].value_counts(dropna=False)",
      "execution_count": 5,
      "outputs": [
        {
          "output_type": "execute_result",
          "execution_count": 5,
          "data": {
            "text/plain": "S      644\nC      168\nQ       77\nNaN      2\nName: Embarked, dtype: int64"
          },
          "metadata": {}
        }
      ]
    },
    {
      "metadata": {
        "trusted": true
      },
      "cell_type": "code",
      "source": "#S is the mode so we'll impute using that \nX.loc[:,'Embarked'].fillna('S', inplace=True)",
      "execution_count": 6,
      "outputs": []
    },
    {
      "metadata": {
        "trusted": true
      },
      "cell_type": "code",
      "source": "X['Ticket'].describe()",
      "execution_count": 7,
      "outputs": [
        {
          "output_type": "execute_result",
          "execution_count": 7,
          "data": {
            "text/plain": "count          891\nunique         681\ntop       CA. 2343\nfreq             7\nName: Ticket, dtype: object"
          },
          "metadata": {}
        }
      ]
    },
    {
      "metadata": {
        "trusted": true,
        "scrolled": true
      },
      "cell_type": "code",
      "source": "X['Ticket'].value_counts()",
      "execution_count": 8,
      "outputs": [
        {
          "output_type": "execute_result",
          "execution_count": 8,
          "data": {
            "text/plain": "CA. 2343             7\n347082               7\n1601                 7\n347088               6\nCA 2144              6\n3101295              6\n382652               5\nS.O.C. 14879         5\nPC 17757             4\n4133                 4\nLINE                 4\n349909               4\n347077               4\nW./C. 6608           4\n113760               4\n2666                 4\n113781               4\n19950                4\n17421                4\n347742               3\n239853               3\n110152               3\n24160                3\n13502                3\nPC 17572             3\nC.A. 34651           3\n248727               3\n35273                3\nF.C.C. 13529         3\nPC 17755             3\n                    ..\n330877               1\n315094               1\n236852               1\n4137                 1\n4136                 1\n226593               1\n4134                 1\n374746               1\n110813               1\nC.A. 6212            1\n349219               1\n34218                1\n343120               1\n315086               1\nSC/AH 3085           1\nSTON/O 2. 3101273    1\n345777               1\nSTON/O 2. 3101274    1\nSTON/O 2. 3101275    1\n113794               1\n2649                 1\n374887               1\n349213               1\n349210               1\n349242               1\n349216               1\n112052               1\n315088               1\n349215               1\nW./C. 14258          1\nName: Ticket, Length: 681, dtype: int64"
          },
          "metadata": {}
        }
      ]
    },
    {
      "metadata": {
        "trusted": true,
        "scrolled": true
      },
      "cell_type": "code",
      "source": "X.loc[X['Ticket'].str.contains('[a-zA-Z]'), 'Ticket']",
      "execution_count": 9,
      "outputs": [
        {
          "output_type": "execute_result",
          "execution_count": 9,
          "data": {
            "text/plain": "0               A/5 21171\n1                PC 17599\n2        STON/O2. 3101282\n10                PP 9549\n12              A/5. 2151\n30               PC 17601\n31               PC 17569\n33             C.A. 24579\n34               PC 17604\n37             A./5. 2152\n43          SC/Paris 2123\n45        S.C./A.4. 23567\n51             A/4. 39886\n52               PC 17572\n56             C.A. 31026\n58             C.A. 34651\n59                CA 2144\n64               PC 17605\n66             C.A. 29395\n67              S.P. 3464\n70             C.A. 33111\n71                CA 2144\n72           S.O.C. 14879\n84             SO/C 14885\n86             W./C. 6608\n87        SOTON/OQ 392086\n92            W.E.P. 5734\n93              C.A. 2315\n96               PC 17754\n97               PC 17759\n              ...        \n744     STON/O 2. 3101288\n745             WE/P 5735\n746             C.A. 2673\n761      SOTON/O2 3101272\n772           S.O./P.P. 3\n783            W./C. 6607\n784    SOTON/O.Q. 3101312\n788             C.A. 2315\n789              PC 17593\n792              CA. 2343\n793              PC 17600\n801            C.A. 31921\n811             A/4 48871\n816      STON/O2. 3101290\n817       S.C./PARIS 2079\n818                C 7075\n827       S.C./PARIS 2079\n835              PC 17756\n840      SOTON/O2 3101287\n841           S.O./P.P. 3\n845             C.A. 5547\n846              CA. 2343\n853              PC 17592\n863              CA. 2343\n866         SC/PARIS 2149\n867              PC 17590\n874             P/PP 3381\n883      C.A./SOTON 34068\n884       SOTON/OQ 392076\n888            W./C. 6607\nName: Ticket, Length: 230, dtype: object"
          },
          "metadata": {}
        }
      ]
    },
    {
      "metadata": {
        "trusted": true,
        "scrolled": true
      },
      "cell_type": "code",
      "source": "X.loc[X['Ticket'].str.contains('[a-zA-Z]'), 'Ticket'].value_counts().sort_index(ascending=True)",
      "execution_count": 210,
      "outputs": [
        {
          "output_type": "execute_result",
          "execution_count": 210,
          "data": {
            "text/plain": "A./5. 2152           1\nA./5. 3235           1\nA.5. 11206           1\nA.5. 18509           1\nA/4 45380            1\nA/4 48871            2\nA/4. 20589           1\nA/4. 34244           1\nA/4. 39886           1\nA/5 21171            1\nA/5 21172            1\nA/5 21173            1\nA/5 21174            1\nA/5 2466             1\nA/5 2817             1\nA/5 3536             1\nA/5 3540             1\nA/5 3594             1\nA/5 3902             1\nA/5. 10482           1\nA/5. 13032           1\nA/5. 2151            1\nA/5. 3336            2\nA/5. 3337            1\nA/5. 851             1\nA/S 2816             1\nA4. 54510            1\nC 17369              1\nC 4001               1\nC 7075               1\n                    ..\nSOTON/OQ 392082      1\nSOTON/OQ 392086      1\nSOTON/OQ 392089      1\nSOTON/OQ 392090      1\nSTON/O 2. 3101269    1\nSTON/O 2. 3101273    1\nSTON/O 2. 3101274    1\nSTON/O 2. 3101275    1\nSTON/O 2. 3101280    1\nSTON/O 2. 3101285    1\nSTON/O 2. 3101286    1\nSTON/O 2. 3101288    1\nSTON/O 2. 3101289    1\nSTON/O 2. 3101292    1\nSTON/O 2. 3101293    1\nSTON/O 2. 3101294    1\nSTON/O2. 3101271     1\nSTON/O2. 3101279     2\nSTON/O2. 3101282     1\nSTON/O2. 3101283     1\nSTON/O2. 3101290     1\nSW/PP 751            1\nW./C. 14258          1\nW./C. 14263          1\nW./C. 6607           2\nW./C. 6608           4\nW./C. 6609           1\nW.E.P. 5734          1\nW/C 14208            1\nWE/P 5735            2\nName: Ticket, Length: 167, dtype: int64"
          },
          "metadata": {}
        }
      ]
    },
    {
      "metadata": {
        "trusted": true
      },
      "cell_type": "code",
      "source": "X['Ticket'] = X['Ticket'].str.split()\nX['Ticket']",
      "execution_count": 211,
      "outputs": [
        {
          "output_type": "execute_result",
          "execution_count": 211,
          "data": {
            "text/plain": "0             [A/5, 21171]\n1              [PC, 17599]\n2      [STON/O2., 3101282]\n3                 [113803]\n4                 [373450]\n5                 [330877]\n6                  [17463]\n7                 [349909]\n8                 [347742]\n9                 [237736]\n10              [PP, 9549]\n11                [113783]\n12            [A/5., 2151]\n13                [347082]\n14                [350406]\n15                [248706]\n16                [382652]\n17                [244373]\n18                [345763]\n19                  [2649]\n20                [239865]\n21                [248698]\n22                [330923]\n23                [113788]\n24                [349909]\n25                [347077]\n26                  [2631]\n27                 [19950]\n28                [330959]\n29                [349216]\n              ...         \n861                [28134]\n862                [17466]\n863            [CA., 2343]\n864               [233866]\n865               [236852]\n866       [SC/PARIS, 2149]\n867            [PC, 17590]\n868               [345777]\n869               [347742]\n870               [349248]\n871                [11751]\n872                  [695]\n873               [345765]\n874           [P/PP, 3381]\n875                 [2667]\n876                 [7534]\n877               [349212]\n878               [349217]\n879                [11767]\n880               [230433]\n881               [349257]\n882                 [7552]\n883    [C.A./SOTON, 34068]\n884     [SOTON/OQ, 392076]\n885               [382652]\n886               [211536]\n887               [112053]\n888          [W./C., 6607]\n889               [111369]\n890               [370376]\nName: Ticket, Length: 891, dtype: object"
          },
          "metadata": {}
        }
      ]
    },
    {
      "metadata": {
        "trusted": true,
        "scrolled": true
      },
      "cell_type": "code",
      "source": "X['TicketNum'] = X['Ticket'].apply(lambda x: x[-1])",
      "execution_count": 212,
      "outputs": []
    },
    {
      "metadata": {
        "trusted": true
      },
      "cell_type": "code",
      "source": "def ticket_clean(x):\n    if len(x) == 1:\n        x = 'NoPrefix'\n        return x\n    else:\n        del x[-1]\n        x= ''.join(x)\n        return x\n    \nX['Ticket'] = X['Ticket'].apply(ticket_clean)\nX.loc[X['Ticket'].str.contains('[a-zA-Z]'), 'Ticket'].value_counts()",
      "execution_count": 213,
      "outputs": [
        {
          "output_type": "execute_result",
          "execution_count": 213,
          "data": {
            "text/plain": "NoPrefix      665\nPC             60\nC.A.           27\nSTON/O2.       18\nA/5            10\nW./C.           9\nCA.             8\nSOTON/O.Q.      8\nA/5.            7\nSOTON/OQ        7\nCA              6\nF.C.C.          5\nC               5\nS.O.C.          5\nSC/PARIS        5\nSC/Paris        4\nS.O./P.P.       3\nA/4.            3\nPP              3\nA/4             3\nP/PP            2\nS.C./PARIS      2\nSC/AH           2\nWE/P            2\nSOTON/O2        2\nA.5.            2\nA./5.           2\nSCO/W           1\nW.E.P.          1\nSC              1\nS.C./A.4.       1\nSO/C            1\nFa              1\nA/S             1\nS.P.            1\nF.C.            1\nS.W./PP         1\nSW/PP           1\nSC/AHBasle      1\nA4.             1\nS.O.P.          1\nC.A./SOTON      1\nW/C             1\nName: Ticket, dtype: int64"
          },
          "metadata": {}
        }
      ]
    },
    {
      "metadata": {
        "trusted": true
      },
      "cell_type": "code",
      "source": "X['Ticket'] = X['Ticket'].apply(lambda x: x.split('.')).apply(lambda x: ''.join(x)).sort_values()\n\nX.loc[X['Ticket'].str.contains('[a-zA-Z]'), 'Ticket'].value_counts()",
      "execution_count": 214,
      "outputs": [
        {
          "output_type": "execute_result",
          "execution_count": 214,
          "data": {
            "text/plain": "NoPrefix      665\nPC             60\nCA             41\nA/5            19\nSTON/O2        18\nSOTON/OQ       15\nW/C            10\nSC/PARIS        7\nA/4             6\nC               5\nSOC             5\nFCC             5\nSC/Paris        4\nSO/PP           3\nPP              3\nSOTON/O2        2\nP/PP            2\nSC/AH           2\nWE/P            2\nA5              2\nSW/PP           2\nFa              1\nFC              1\nSC/AHBasle      1\nCA/SOTON        1\nSC/A4           1\nSO/C            1\nA4              1\nSOP             1\nSC              1\nSP              1\nWEP             1\nA/S             1\nSCO/W           1\nName: Ticket, dtype: int64"
          },
          "metadata": {}
        }
      ]
    },
    {
      "metadata": {
        "trusted": true,
        "scrolled": false
      },
      "cell_type": "code",
      "source": "prefixes = ['SCO/', 'A4|A5', 'WEP', 'SP', 'SC', 'SOP', 'SO/', 'SC/', 'CA|CA/', 'FC', 'SW/', '/PP|PP/', '/P|P/', 'WE/', 'SOTON/', 'STON/', 'PC']\n",
      "execution_count": 215,
      "outputs": []
    },
    {
      "metadata": {
        "trusted": true,
        "scrolled": true
      },
      "cell_type": "code",
      "source": "for item in prefixes:\n    X.loc[X['Ticket'].str.contains(item, case=False), 'Ticket'] = item",
      "execution_count": 216,
      "outputs": []
    },
    {
      "metadata": {
        "trusted": true,
        "scrolled": false
      },
      "cell_type": "code",
      "source": "X['Ticket'].value_counts()",
      "execution_count": 217,
      "outputs": [
        {
          "output_type": "execute_result",
          "execution_count": 217,
          "data": {
            "text/plain": "NoPrefix    665\nPC           60\nCA|CA/       42\nA/5          19\nSTON/        18\nSOTON/       17\nSC           16\nW/C          10\nA/4           6\nFC            6\nSOC           5\nC             5\nA4|A5         4\n/P|P/         4\nSO/           4\nPP            3\nSW/           2\nFa            1\nA/S           1\nWEP           1\nSP            1\nSOP           1\nName: Ticket, dtype: int64"
          },
          "metadata": {}
        }
      ]
    },
    {
      "metadata": {
        "trusted": true,
        "scrolled": true
      },
      "cell_type": "code",
      "source": "prefixes_2 = ['A4', 'A5']\nX['Ticket'] = X['Ticket'].apply(lambda x: x.split('/')).apply(lambda x: ''.join(x)).sort_values()\nX['Ticket'] = X['Ticket'].apply(lambda x: x.split('|')).apply(lambda x: ''.join(x)).sort_values()",
      "execution_count": 218,
      "outputs": []
    },
    {
      "metadata": {
        "trusted": true
      },
      "cell_type": "code",
      "source": "X['Ticket'].value_counts()",
      "execution_count": 219,
      "outputs": [
        {
          "output_type": "execute_result",
          "execution_count": 219,
          "data": {
            "text/plain": "NoPrefix    665\nPC           60\nCACA         42\nA5           19\nSTON         18\nSOTON        17\nSC           16\nWC           10\nPP            7\nA4            6\nFC            6\nSOC           5\nC             5\nA4A5          4\nSO            4\nSW            2\nWEP           1\nFa            1\nSP            1\nSOP           1\nAS            1\nName: Ticket, dtype: int64"
          },
          "metadata": {}
        }
      ]
    },
    {
      "metadata": {
        "trusted": true
      },
      "cell_type": "code",
      "source": "for item in prefixes_2:\n    X.loc[X['Ticket'].str.contains(item, case=False), 'Ticket'] = item",
      "execution_count": 220,
      "outputs": []
    },
    {
      "metadata": {
        "trusted": true
      },
      "cell_type": "code",
      "source": "others = ['SOP', 'SP', 'AS', 'WEP', 'Fa', 'SW', 'SO', 'SOC', 'FC', 'C', 'PP']\nX.loc[X['Ticket'] == 'CACA', 'Ticket'] = 'CA'\nX.loc[X['Ticket'] == 'A5', 'Ticket'] = 'A'\nX.loc[X['Ticket'] == 'A4', 'Ticket'] = 'A'\nfor item in others:\n    X.loc[X['Ticket'] == item, 'Ticket'] = 'other'",
      "execution_count": 221,
      "outputs": []
    },
    {
      "metadata": {
        "trusted": true,
        "scrolled": true
      },
      "cell_type": "code",
      "source": "X['Ticket'].value_counts()",
      "execution_count": 222,
      "outputs": [
        {
          "output_type": "execute_result",
          "execution_count": 222,
          "data": {
            "text/plain": "NoPrefix    665\nPC           60\nCA           42\nother        34\nA            29\nSTON         18\nSOTON        17\nSC           16\nWC           10\nName: Ticket, dtype: int64"
          },
          "metadata": {}
        }
      ]
    },
    {
      "metadata": {
        "trusted": true,
        "scrolled": true
      },
      "cell_type": "code",
      "source": "X.groupby('Ticket')['Survived'].mean().plot(kind='bar')",
      "execution_count": 224,
      "outputs": [
        {
          "output_type": "execute_result",
          "execution_count": 224,
          "data": {
            "text/plain": "<matplotlib.axes._subplots.AxesSubplot at 0x7fbc9fd40e90>"
          },
          "metadata": {}
        },
        {
          "output_type": "display_data",
          "data": {
            "image/png": "[encoded data removed]",
            "text/plain": "<Figure size 432x288 with 1 Axes>"
          },
          "metadata": {}
        }
      ]
    },
    {
      "metadata": {
        "trusted": true
      },
      "cell_type": "code",
      "source": "",
      "execution_count": null,
      "outputs": []
    },
    {
      "metadata": {
        "trusted": true
      },
      "cell_type": "code",
      "source": "",
      "execution_count": null,
      "outputs": []
    },
    {
      "metadata": {
        "trusted": true,
        "scrolled": true
      },
      "cell_type": "code",
      "source": "",
      "execution_count": null,
      "outputs": []
    },
    {
      "metadata": {
        "trusted": true
      },
      "cell_type": "code",
      "source": "",
      "execution_count": null,
      "outputs": []
    },
    {
      "metadata": {
        "trusted": true,
        "scrolled": true
      },
      "cell_type": "code",
      "source": "",
      "execution_count": null,
      "outputs": []
    },
    {
      "metadata": {
        "trusted": true
      },
      "cell_type": "code",
      "source": "",
      "execution_count": null,
      "outputs": []
    },
    {
      "metadata": {
        "trusted": true
      },
      "cell_type": "code",
      "source": "",
      "execution_count": null,
      "outputs": []
    },
    {
      "metadata": {
        "trusted": true
      },
      "cell_type": "code",
      "source": "encoded_embarked = pd.get_dummies(X['Embarked'])\nX = pd.concat([X, encoded_embarked], axis=1)\nX.drop('Embarked', axis = 1, inplace = True)",
      "execution_count": null,
      "outputs": []
    },
    {
      "metadata": {
        "trusted": true
      },
      "cell_type": "code",
      "source": "",
      "execution_count": null,
      "outputs": []
    },
    {
      "metadata": {
        "trusted": true
      },
      "cell_type": "code",
      "source": "#Basically unique, so drop",
      "execution_count": null,
      "outputs": []
    },
    {
      "metadata": {
        "trusted": true
      },
      "cell_type": "code",
      "source": "X.drop(['Cabin','PassengerId', 'Ticket'], inplace=True, axis=1),\nX['Embarked'] = X['Embarked'].fillna('S')\nX['Sex'].replace({'male':0, 'female':1}, inplace = True) #Replacing gender with binary, will have to happen anyway\nX.head(3)",
      "execution_count": null,
      "outputs": []
    },
    {
      "metadata": {
        "trusted": true
      },
      "cell_type": "code",
      "source": "#Next to fill in age\nX['Age'].hist()\nprint X['Age'].mean(), X['Age'].median()\n#TO DO find a better way to reconstruct Age\n#For now will use median due to resistance to skew",
      "execution_count": null,
      "outputs": []
    },
    {
      "metadata": {
        "trusted": true,
        "scrolled": true
      },
      "cell_type": "code",
      "source": "def extract_titles(df):\n    if 'Name' in df:\n        split_names = df['Name'].str.split(',')\n        titles = split_names.apply(lambda x: x[1]).str.strip().str.split('.').apply(lambda x: x[0])\n        df['Title'] = titles\n        mens_titles = ['Jonkheer', 'Sir', 'Capt', 'Col', 'Don', 'Dr', 'Rev', 'Major']\n        mrs_titles = ['Mme']\n        miss_titles = ['Ms', 'Lady', 'Mlle', 'the Countess']\n        \n        for title in mens_titles:\n            df.loc[df['Title'] == title, 'Title'] = 'Mr'\n        \n        for title in miss_titles :\n            df.loc[df['Title'] == title, 'Title'] = 'Miss'\n            \n        for title in mrs_titles:\n            df.loc[df['Title'] == title, 'Title'] = 'Mrs'\n            \n    encoded_titles = pd.get_dummies(df['Title'])\n    df = pd.concat([df, encoded_titles], axis=1)\n    df = df.drop(['Name', 'Title'], axis = 1)\n    return df\n\nextract_titles(X)",
      "execution_count": null,
      "outputs": []
    },
    {
      "metadata": {
        "trusted": true
      },
      "cell_type": "code",
      "source": "for pclass in X['Pclass'].unique():\n    sns.kdeplot(X[X['Pclass']==pclass]['Age'], label = pclass)\n#Showing relationship between age and pclass",
      "execution_count": null,
      "outputs": []
    },
    {
      "metadata": {
        "trusted": true
      },
      "cell_type": "code",
      "source": "X.groupby('Pclass')['Age'].mean()",
      "execution_count": null,
      "outputs": []
    },
    {
      "metadata": {
        "trusted": true
      },
      "cell_type": "code",
      "source": "for pclass in X['Pclass'].unique():\n        X.loc[(X['Pclass'] == pclass) & (X['Age'].isnull()), 'Age'] = X.groupby('Pclass')['Age'].mean().loc[pclass]\n        \n#Reconstruct Age based on Pclass",
      "execution_count": null,
      "outputs": []
    },
    {
      "metadata": {
        "trusted": true
      },
      "cell_type": "code",
      "source": "plt.subplot(121)\nplt.hist(X[X['Survived']== 0 ]['Pclass'])\nplt.title('Perished')\nplt.subplot(122)\nplt.hist(X[X['Survived']== 1 ]['Pclass'])\nplt.title('Survived')\nX.groupby('Pclass')['Survived'].mean()",
      "execution_count": null,
      "outputs": []
    },
    {
      "metadata": {
        "trusted": true
      },
      "cell_type": "code",
      "source": "#Useful information in Pclass",
      "execution_count": null,
      "outputs": []
    },
    {
      "metadata": {
        "trusted": true,
        "scrolled": true
      },
      "cell_type": "code",
      "source": "plt.subplot(121)\nplt.hist(X[X['Survived']== 0 ]['Age'])\nplt.title('Perished')\nplt.subplot(122)\nplt.hist(X[X['Survived']== 1 ]['Age'])\nplt.title('Survived')",
      "execution_count": null,
      "outputs": []
    },
    {
      "metadata": {
        "trusted": true
      },
      "cell_type": "code",
      "source": "#An idea to try later, infant/elderly \nX['infant'] = X['Age'] < 7 or X['Age'] > 65\nX['infant'] = X['Age'] <= 7 \nX['Geriatric'] = X['Age'] >= 65\n#More survived below 10, more died above 65",
      "execution_count": null,
      "outputs": []
    },
    {
      "metadata": {
        "trusted": true
      },
      "cell_type": "code",
      "source": "",
      "execution_count": null,
      "outputs": []
    },
    {
      "metadata": {
        "trusted": true
      },
      "cell_type": "code",
      "source": "#One hot encoding embarked, to see if it is worth keeping\nX['Embarked_S'] = 0\nX['Embarked_C'] = 0\nX['Embarked_Q'] = 0\n\nX.loc[X['Embarked'] == 'S', 'Embarked_S'] = 1\nX.loc[X['Embarked'] == 'C', 'Embarked_C'] = 1\nX.loc[X['Embarked'] == 'Q', 'Embarked_Q'] = 1\n\nX.drop('Embarked', axis = 1, inplace=True)",
      "execution_count": null,
      "outputs": []
    },
    {
      "metadata": {
        "trusted": true,
        "scrolled": true
      },
      "cell_type": "code",
      "source": "X.groupby('Survived')['Embarked_S', 'Embarked_C', 'Embarked_Q'].agg(np.array(['value_counts'])).plot.bar()\n#Can probably drop Embarked_Q\n",
      "execution_count": null,
      "outputs": []
    },
    {
      "metadata": {
        "trusted": true,
        "scrolled": true
      },
      "cell_type": "code",
      "source": "X.corr()\n#Because why not",
      "execution_count": null,
      "outputs": []
    },
    {
      "metadata": {
        "trusted": true
      },
      "cell_type": "code",
      "source": "Titles = X['Name'].str.split(',').apply(lambda x: x[1]).str.strip().str.split('.').apply(lambda x: x[0]).unique()\nTitle_counts = X['Name'].str.split(',').apply(lambda x: x[1]).str.strip().str.split('.').apply(lambda x: x[0]).value_counts()\n#Using data from the name column\nTitle_counts",
      "execution_count": null,
      "outputs": []
    },
    {
      "metadata": {
        "trusted": true
      },
      "cell_type": "code",
      "source": "#Reset for flag age\n\nX = pd.read_csv('./train.csv')\ntest = pd.read_csv('./test.csv')\n\ndef remove_nan(df):\n    df['Embarked'] = df['Embarked'].fillna('S')\n    for pclass in df['Pclass'].unique():\n        df.loc[(df['Pclass'] == pclass) & (df['Age'].isnull()), 'Age'] = df.groupby('Pclass')['Age'].mean().loc[pclass]\n    return df    \n\ndef remove_features(df):\n    df = df.drop(['Cabin', 'PassengerId', 'Ticket', 'Name'], axis=1)\n    return df\n\ndef extract_titles(df):\n    if 'Name' in df:\n        split_names = df['Name'].str.split(',')\n        titles = split_names.apply(lambda x: x[1]).str.strip().str.split('.').apply(lambda x: x[0])\n        df['Title'] = titles\n        \n    return df\n    #To Do, remove useless titles like mlle ms\n    #One_hot_encode\n    \ndef one_hot_encode_embarked(df):\n    df['Embarked_S'] = 0\n    df['Embarked_C'] = 0\n    df['Embarked_Q'] = 0\n\n    df.loc[df['Embarked'] == 'S', 'Embarked_S'] = 1\n    df.loc[df['Embarked'] == 'C', 'Embarked_C'] = 1\n    df['Sex'].replace({'male':0, 'female':1}, inplace = True)\n    df.loc[df['Embarked'] == 'Q', 'Embarked_Q'] = 1\n    df = df.drop('Embarked', axis = 1)\n    return df\n\ndef flag_age(df):\n    df['Infant'] = df['Age'] <= 7 \n    df['Geriatric'] = df['Age'] >= 65\n    return df",
      "execution_count": null,
      "outputs": []
    },
    {
      "metadata": {
        "trusted": true,
        "scrolled": true
      },
      "cell_type": "code",
      "source": "X = flag_age(one_hot_encode_embarked(remove_features(remove_nan(X))))\nX.head()",
      "execution_count": null,
      "outputs": []
    },
    {
      "metadata": {
        "trusted": true,
        "scrolled": true
      },
      "cell_type": "code",
      "source": "print X['Infant'].value_counts()/X.shape[0]",
      "execution_count": null,
      "outputs": []
    },
    {
      "metadata": {
        "trusted": true
      },
      "cell_type": "code",
      "source": "print X['Geriatric'].value_counts()/X.shape[0]",
      "execution_count": null,
      "outputs": []
    },
    {
      "metadata": {
        "trusted": true,
        "scrolled": true
      },
      "cell_type": "code",
      "source": "def remove_features(df):\n    df = df.drop(['Cabin', 'PassengerId', 'Ticket'], axis=1)\n    return df\n\nX = extract_titles(one_hot_encode_embarked(remove_features(remove_nan(X))))\nX.head()",
      "execution_count": null,
      "outputs": []
    },
    {
      "metadata": {
        "trusted": true,
        "scrolled": true
      },
      "cell_type": "code",
      "source": "X['Title'].unique()",
      "execution_count": null,
      "outputs": []
    },
    {
      "metadata": {
        "trusted": true
      },
      "cell_type": "code",
      "source": "X['Title'].value_counts()",
      "execution_count": null,
      "outputs": []
    },
    {
      "metadata": {
        "trusted": true
      },
      "cell_type": "code",
      "source": "X.loc[X['Title'] == 'Ms', 'Title'] = 'Miss'\nX.loc[X['Title'] == 'Lady', 'Title'] = 'Miss'\nX.loc[X['Title'] == 'Mlle', 'Title'] = 'Miss'\nX.loc[X['Title'] == 'Mme', 'Title'] = 'Mrs'\nX.loc[X['Title'] == 'the Countess', 'Title'] = 'Miss'\nX.loc[X['Title'] == 'Jonkheer', 'Title'] = 'Mr'\nX.loc[X['Title'] == 'Sir', 'Title'] = 'Mr'\nX.loc[X['Title'] == 'Capt', 'Title'] = 'Mr'\nX.loc[X['Title'] == 'Col', 'Title'] = 'Mr'\nX.loc[X['Title'] == 'Major', 'Title'] = 'Mr'\nX.loc[X['Title'] == 'Don', 'Title'] = 'Mr'\nX.loc[X['Title'] == 'Dr', 'Title'] = 'Mr'\nX.loc[X['Title'] == 'Rev', 'Title'] = 'Mr'",
      "execution_count": null,
      "outputs": []
    },
    {
      "metadata": {
        "trusted": true
      },
      "cell_type": "code",
      "source": "X['Title'].value_counts()",
      "execution_count": null,
      "outputs": []
    },
    {
      "metadata": {},
      "cell_type": "markdown",
      "source": "Will update extract titles to reflect this."
    },
    {
      "metadata": {
        "trusted": true
      },
      "cell_type": "code",
      "source": "def extract_titles(df):\n    if 'Name' in df:\n        split_names = df['Name'].str.split(',')\n        titles = split_names.apply(lambda x: x[1]).str.strip().str.split('.').apply(lambda x: x[0])\n        df['Title'] = titles\n        X.loc[X['Title'] == 'Ms', 'Title'] = 'Miss'\n        X.loc[X['Title'] == 'Lady', 'Title'] = 'Miss'\n        X.loc[X['Title'] == 'Mlle', 'Title'] = 'Miss'\n        X.loc[X['Title'] == 'Mme', 'Title'] = 'Mrs'\n        X.loc[X['Title'] == 'the Countess', 'Title'] = 'Miss'\n        X.loc[X['Title'] == 'Jonkheer', 'Title'] = 'Mr'\n        X.loc[X['Title'] == 'Sir', 'Title'] = 'Mr'\n        X.loc[X['Title'] == 'Capt', 'Title'] = 'Mr'\n        X.loc[X['Title'] == 'Col', 'Title'] = 'Mr'\n        X.loc[X['Title'] == 'Major', 'Title'] = 'Mr'\n        X.loc[X['Title'] == 'Don', 'Title'] = 'Mr'\n        X.loc[X['Title'] == 'Dr', 'Title'] = 'Mr'\n        X.loc[X['Title'] == 'Rev', 'Title'] = 'Mr'\n    return df",
      "execution_count": null,
      "outputs": []
    },
    {
      "metadata": {
        "trusted": true
      },
      "cell_type": "code",
      "source": "X['Mr'] = 0\nX['Miss'] = 0\nX['Mrs'] = 0\nX['Master'] = 0\n\nX.loc[X['Title'] == 'Mr', 'Mr'] = 1\nX.loc[X['Title'] == 'Miss', 'Miss'] = 1\nX.loc[X['Title'] == 'Mrs', 'Mrs'] = 1\nX.loc[X['Title'] == 'Master', 'Master'] = 1",
      "execution_count": null,
      "outputs": []
    },
    {
      "metadata": {},
      "cell_type": "markdown",
      "source": "Final Extract_Titles"
    },
    {
      "metadata": {
        "trusted": true
      },
      "cell_type": "code",
      "source": "def extract_titles(df):\n    if 'Name' in df:\n        split_names = df['Name'].str.split(',')\n        titles = split_names.apply(lambda x: x[1]).str.strip().str.split('.').apply(lambda x: x[0])\n        df['Title'] = titles\n        X.loc[X['Title'] == 'Ms', 'Title'] = 'Miss'\n        X.loc[X['Title'] == 'Lady', 'Title'] = 'Miss'\n        X.loc[X['Title'] == 'Mlle', 'Title'] = 'Miss'\n        X.loc[X['Title'] == 'Mme', 'Title'] = 'Mrs'\n        X.loc[X['Title'] == 'the Countess', 'Title'] = 'Miss'\n        X.loc[X['Title'] == 'Jonkheer', 'Title'] = 'Mr'\n        X.loc[X['Title'] == 'Sir', 'Title'] = 'Mr'\n        X.loc[X['Title'] == 'Capt', 'Title'] = 'Mr'\n        X.loc[X['Title'] == 'Col', 'Title'] = 'Mr'\n        X.loc[X['Title'] == 'Major', 'Title'] = 'Mr'\n        X.loc[X['Title'] == 'Don', 'Title'] = 'Mr'\n        X.loc[X['Title'] == 'Dr', 'Title'] = 'Mr'\n        X.loc[X['Title'] == 'Rev', 'Title'] = 'Mr'\n        \n        X['Mr'] = 0\n        X['Miss'] = 0\n        X['Mrs'] = 0\n        X['Master'] = 0\n\n        X.loc[X['Title'] == 'Mr', 'Mr'] = 1\n        X.loc[X['Title'] == 'Miss', 'Miss'] = 1\n        X.loc[X['Title'] == 'Mrs', 'Mrs'] = 1\n        X.loc[X['Title'] == 'Master', 'Master'] = 1\n    return df",
      "execution_count": null,
      "outputs": []
    },
    {
      "metadata": {
        "trusted": true
      },
      "cell_type": "code",
      "source": "np.arange(0, 50, 2.5)",
      "execution_count": null,
      "outputs": []
    },
    {
      "metadata": {
        "trusted": true
      },
      "cell_type": "code",
      "source": "test.isnull().sum()\n\n#Need to impute the missing fare from test\n\ntest.loc[test['Fare'].isnull(), 'Fare'] = test['Fare'].median()\n\ntest.isnull().sum()",
      "execution_count": null,
      "outputs": []
    },
    {
      "metadata": {
        "trusted": true
      },
      "cell_type": "code",
      "source": "",
      "execution_count": null,
      "outputs": []
    }
  ],
  "metadata": {
    "kernelspec": {
      "name": "python2",
      "display_name": "Python 2",
      "language": "python"
    },
    "language_info": {
      "mimetype": "text/x-python",
      "nbconvert_exporter": "python",
      "name": "python",
      "pygments_lexer": "ipython2",
      "version": "2.7.15",
      "file_extension": ".py",
      "codemirror_mode": {
        "version": 2,
        "name": "ipython"
      }
    }
  },
  "nbformat": 4,
  "nbformat_minor": 2
}